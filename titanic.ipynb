{
 "cells": [
  {
   "cell_type": "code",
   "execution_count": 1,
   "metadata": {
    "collapsed": true,
    "nbpresent": {
     "id": "f1341dae-e1f1-4d63-9430-b5c2bbb4af1d"
    },
    "slideshow": {
     "slide_type": "slide"
    }
   },
   "outputs": [],
   "source": [
    "%matplotlib inline\n",
    "import pandas as pd\n",
    "pd.options.display.max_columns = 100\n",
    "from matplotlib import pyplot as plt\n",
    "import matplotlib\n",
    "matplotlib.style.use('ggplot')\n",
    "import numpy as np"
   ]
  },
  {
   "cell_type": "code",
   "execution_count": 2,
   "metadata": {
    "collapsed": true,
    "nbpresent": {
     "id": "cca11249-9635-4fa8-8ec4-389218fbbc6c"
    },
    "slideshow": {
     "slide_type": "slide"
    }
   },
   "outputs": [],
   "source": [
    "from azureml import Workspace\n",
    "ws = Workspace(\n",
    "    workspace_id='6b764336ef1047f5a4bc5292088afbac',\n",
    "    authorization_token='dCZxFPMQy6YCoYxxYy5URZwl5Tu9fc5x5HCn+k3WKB3v8lJoZmFqnrMM1AdauRWZ43xgdLoW/lmKYVsm3zs+cg==',\n",
    "    endpoint='https://studioapi.azureml.net'\n",
    ")\n",
    "ds = ws.datasets['train-titanic.csv']\n",
    "data = ds.to_dataframe()"
   ]
  },
  {
   "cell_type": "markdown",
   "metadata": {
    "nbpresent": {
     "id": "7d9563e2-488a-4f39-a953-bf13b1dbfc01"
    },
    "slideshow": {
     "slide_type": "slide"
    }
   },
   "source": [
    "# Parte 1. Analisis de los datos"
   ]
  },
  {
   "cell_type": "code",
   "execution_count": 3,
   "metadata": {
    "nbpresent": {
     "id": "b39b97a2-a0f4-4bc7-b441-0529855c1431"
    },
    "slideshow": {
     "slide_type": "-"
    }
   },
   "outputs": [
    {
     "data": {
      "text/plain": [
       "(891, 12)"
      ]
     },
     "execution_count": 3,
     "metadata": {},
     "output_type": "execute_result"
    }
   ],
   "source": [
    "data.shape"
   ]
  },
  {
   "cell_type": "code",
   "execution_count": 4,
   "metadata": {
    "nbpresent": {
     "id": "0a7f9748-15a7-473f-a483-a80762389539"
    },
    "scrolled": true,
    "slideshow": {
     "slide_type": "slide"
    }
   },
   "outputs": [
    {
     "data": {
      "text/html": [
       "<div>\n",
       "<style>\n",
       "    .dataframe thead tr:only-child th {\n",
       "        text-align: right;\n",
       "    }\n",
       "\n",
       "    .dataframe thead th {\n",
       "        text-align: left;\n",
       "    }\n",
       "\n",
       "    .dataframe tbody tr th {\n",
       "        vertical-align: top;\n",
       "    }\n",
       "</style>\n",
       "<table border=\"1\" class=\"dataframe\">\n",
       "  <thead>\n",
       "    <tr style=\"text-align: right;\">\n",
       "      <th></th>\n",
       "      <th>PassengerId</th>\n",
       "      <th>Survived</th>\n",
       "      <th>Pclass</th>\n",
       "      <th>Name</th>\n",
       "      <th>Sex</th>\n",
       "      <th>Age</th>\n",
       "      <th>SibSp</th>\n",
       "      <th>Parch</th>\n",
       "      <th>Ticket</th>\n",
       "      <th>Fare</th>\n",
       "      <th>Cabin</th>\n",
       "      <th>Embarked</th>\n",
       "    </tr>\n",
       "  </thead>\n",
       "  <tbody>\n",
       "    <tr>\n",
       "      <th>0</th>\n",
       "      <td>1</td>\n",
       "      <td>0</td>\n",
       "      <td>3</td>\n",
       "      <td>Braund, Mr. Owen Harris</td>\n",
       "      <td>male</td>\n",
       "      <td>22.0</td>\n",
       "      <td>1</td>\n",
       "      <td>0</td>\n",
       "      <td>A/5 21171</td>\n",
       "      <td>7.2500</td>\n",
       "      <td>NaN</td>\n",
       "      <td>S</td>\n",
       "    </tr>\n",
       "    <tr>\n",
       "      <th>1</th>\n",
       "      <td>2</td>\n",
       "      <td>1</td>\n",
       "      <td>1</td>\n",
       "      <td>Cumings, Mrs. John Bradley (Florence Briggs Th...</td>\n",
       "      <td>female</td>\n",
       "      <td>38.0</td>\n",
       "      <td>1</td>\n",
       "      <td>0</td>\n",
       "      <td>PC 17599</td>\n",
       "      <td>71.2833</td>\n",
       "      <td>C85</td>\n",
       "      <td>C</td>\n",
       "    </tr>\n",
       "    <tr>\n",
       "      <th>2</th>\n",
       "      <td>3</td>\n",
       "      <td>1</td>\n",
       "      <td>3</td>\n",
       "      <td>Heikkinen, Miss. Laina</td>\n",
       "      <td>female</td>\n",
       "      <td>26.0</td>\n",
       "      <td>0</td>\n",
       "      <td>0</td>\n",
       "      <td>STON/O2. 3101282</td>\n",
       "      <td>7.9250</td>\n",
       "      <td>NaN</td>\n",
       "      <td>S</td>\n",
       "    </tr>\n",
       "    <tr>\n",
       "      <th>3</th>\n",
       "      <td>4</td>\n",
       "      <td>1</td>\n",
       "      <td>1</td>\n",
       "      <td>Futrelle, Mrs. Jacques Heath (Lily May Peel)</td>\n",
       "      <td>female</td>\n",
       "      <td>35.0</td>\n",
       "      <td>1</td>\n",
       "      <td>0</td>\n",
       "      <td>113803</td>\n",
       "      <td>53.1000</td>\n",
       "      <td>C123</td>\n",
       "      <td>S</td>\n",
       "    </tr>\n",
       "    <tr>\n",
       "      <th>4</th>\n",
       "      <td>5</td>\n",
       "      <td>0</td>\n",
       "      <td>3</td>\n",
       "      <td>Allen, Mr. William Henry</td>\n",
       "      <td>male</td>\n",
       "      <td>35.0</td>\n",
       "      <td>0</td>\n",
       "      <td>0</td>\n",
       "      <td>373450</td>\n",
       "      <td>8.0500</td>\n",
       "      <td>NaN</td>\n",
       "      <td>S</td>\n",
       "    </tr>\n",
       "  </tbody>\n",
       "</table>\n",
       "</div>"
      ],
      "text/plain": [
       "   PassengerId  Survived  Pclass  \\\n",
       "0            1         0       3   \n",
       "1            2         1       1   \n",
       "2            3         1       3   \n",
       "3            4         1       1   \n",
       "4            5         0       3   \n",
       "\n",
       "                                                Name     Sex   Age  SibSp  \\\n",
       "0                            Braund, Mr. Owen Harris    male  22.0      1   \n",
       "1  Cumings, Mrs. John Bradley (Florence Briggs Th...  female  38.0      1   \n",
       "2                             Heikkinen, Miss. Laina  female  26.0      0   \n",
       "3       Futrelle, Mrs. Jacques Heath (Lily May Peel)  female  35.0      1   \n",
       "4                           Allen, Mr. William Henry    male  35.0      0   \n",
       "\n",
       "   Parch            Ticket     Fare Cabin Embarked  \n",
       "0      0         A/5 21171   7.2500   NaN        S  \n",
       "1      0          PC 17599  71.2833   C85        C  \n",
       "2      0  STON/O2. 3101282   7.9250   NaN        S  \n",
       "3      0            113803  53.1000  C123        S  \n",
       "4      0            373450   8.0500   NaN        S  "
      ]
     },
     "execution_count": 4,
     "metadata": {},
     "output_type": "execute_result"
    }
   ],
   "source": [
    "data.head()"
   ]
  },
  {
   "cell_type": "code",
   "execution_count": 5,
   "metadata": {
    "nbpresent": {
     "id": "680384db-03a8-4ec7-9014-bcc2f1b00535"
    },
    "scrolled": true,
    "slideshow": {
     "slide_type": "slide"
    }
   },
   "outputs": [
    {
     "data": {
      "text/html": [
       "<div>\n",
       "<style>\n",
       "    .dataframe thead tr:only-child th {\n",
       "        text-align: right;\n",
       "    }\n",
       "\n",
       "    .dataframe thead th {\n",
       "        text-align: left;\n",
       "    }\n",
       "\n",
       "    .dataframe tbody tr th {\n",
       "        vertical-align: top;\n",
       "    }\n",
       "</style>\n",
       "<table border=\"1\" class=\"dataframe\">\n",
       "  <thead>\n",
       "    <tr style=\"text-align: right;\">\n",
       "      <th></th>\n",
       "      <th>PassengerId</th>\n",
       "      <th>Survived</th>\n",
       "      <th>Pclass</th>\n",
       "      <th>Age</th>\n",
       "      <th>SibSp</th>\n",
       "      <th>Parch</th>\n",
       "      <th>Fare</th>\n",
       "    </tr>\n",
       "  </thead>\n",
       "  <tbody>\n",
       "    <tr>\n",
       "      <th>count</th>\n",
       "      <td>891.000000</td>\n",
       "      <td>891.000000</td>\n",
       "      <td>891.000000</td>\n",
       "      <td>714.000000</td>\n",
       "      <td>891.000000</td>\n",
       "      <td>891.000000</td>\n",
       "      <td>891.000000</td>\n",
       "    </tr>\n",
       "    <tr>\n",
       "      <th>mean</th>\n",
       "      <td>446.000000</td>\n",
       "      <td>0.383838</td>\n",
       "      <td>2.308642</td>\n",
       "      <td>29.699118</td>\n",
       "      <td>0.523008</td>\n",
       "      <td>0.381594</td>\n",
       "      <td>32.204208</td>\n",
       "    </tr>\n",
       "    <tr>\n",
       "      <th>std</th>\n",
       "      <td>257.353842</td>\n",
       "      <td>0.486592</td>\n",
       "      <td>0.836071</td>\n",
       "      <td>14.526497</td>\n",
       "      <td>1.102743</td>\n",
       "      <td>0.806057</td>\n",
       "      <td>49.693429</td>\n",
       "    </tr>\n",
       "    <tr>\n",
       "      <th>min</th>\n",
       "      <td>1.000000</td>\n",
       "      <td>0.000000</td>\n",
       "      <td>1.000000</td>\n",
       "      <td>0.420000</td>\n",
       "      <td>0.000000</td>\n",
       "      <td>0.000000</td>\n",
       "      <td>0.000000</td>\n",
       "    </tr>\n",
       "    <tr>\n",
       "      <th>25%</th>\n",
       "      <td>223.500000</td>\n",
       "      <td>0.000000</td>\n",
       "      <td>2.000000</td>\n",
       "      <td>20.125000</td>\n",
       "      <td>0.000000</td>\n",
       "      <td>0.000000</td>\n",
       "      <td>7.910400</td>\n",
       "    </tr>\n",
       "    <tr>\n",
       "      <th>50%</th>\n",
       "      <td>446.000000</td>\n",
       "      <td>0.000000</td>\n",
       "      <td>3.000000</td>\n",
       "      <td>28.000000</td>\n",
       "      <td>0.000000</td>\n",
       "      <td>0.000000</td>\n",
       "      <td>14.454200</td>\n",
       "    </tr>\n",
       "    <tr>\n",
       "      <th>75%</th>\n",
       "      <td>668.500000</td>\n",
       "      <td>1.000000</td>\n",
       "      <td>3.000000</td>\n",
       "      <td>38.000000</td>\n",
       "      <td>1.000000</td>\n",
       "      <td>0.000000</td>\n",
       "      <td>31.000000</td>\n",
       "    </tr>\n",
       "    <tr>\n",
       "      <th>max</th>\n",
       "      <td>891.000000</td>\n",
       "      <td>1.000000</td>\n",
       "      <td>3.000000</td>\n",
       "      <td>80.000000</td>\n",
       "      <td>8.000000</td>\n",
       "      <td>6.000000</td>\n",
       "      <td>512.329200</td>\n",
       "    </tr>\n",
       "  </tbody>\n",
       "</table>\n",
       "</div>"
      ],
      "text/plain": [
       "       PassengerId    Survived      Pclass         Age       SibSp  \\\n",
       "count   891.000000  891.000000  891.000000  714.000000  891.000000   \n",
       "mean    446.000000    0.383838    2.308642   29.699118    0.523008   \n",
       "std     257.353842    0.486592    0.836071   14.526497    1.102743   \n",
       "min       1.000000    0.000000    1.000000    0.420000    0.000000   \n",
       "25%     223.500000    0.000000    2.000000   20.125000    0.000000   \n",
       "50%     446.000000    0.000000    3.000000   28.000000    0.000000   \n",
       "75%     668.500000    1.000000    3.000000   38.000000    1.000000   \n",
       "max     891.000000    1.000000    3.000000   80.000000    8.000000   \n",
       "\n",
       "            Parch        Fare  \n",
       "count  891.000000  891.000000  \n",
       "mean     0.381594   32.204208  \n",
       "std      0.806057   49.693429  \n",
       "min      0.000000    0.000000  \n",
       "25%      0.000000    7.910400  \n",
       "50%      0.000000   14.454200  \n",
       "75%      0.000000   31.000000  \n",
       "max      6.000000  512.329200  "
      ]
     },
     "execution_count": 5,
     "metadata": {},
     "output_type": "execute_result"
    }
   ],
   "source": [
    "data.describe()"
   ]
  },
  {
   "cell_type": "code",
   "execution_count": 6,
   "metadata": {
    "collapsed": true,
    "nbpresent": {
     "id": "de06b3f0-9765-423f-9ab1-0f8d5490315c"
    }
   },
   "outputs": [],
   "source": [
    "#Rellenamos los casos basicos de edad, usando la mediana ya que nos da mayor exactitud que la media\n",
    "data['Age'].fillna(data['Age'].median(), inplace=True)"
   ]
  },
  {
   "cell_type": "code",
   "execution_count": 7,
   "metadata": {
    "nbpresent": {
     "id": "692e51eb-d6e9-4206-b00c-8a2df94cf4da"
    }
   },
   "outputs": [
    {
     "data": {
      "text/html": [
       "<div>\n",
       "<style>\n",
       "    .dataframe thead tr:only-child th {\n",
       "        text-align: right;\n",
       "    }\n",
       "\n",
       "    .dataframe thead th {\n",
       "        text-align: left;\n",
       "    }\n",
       "\n",
       "    .dataframe tbody tr th {\n",
       "        vertical-align: top;\n",
       "    }\n",
       "</style>\n",
       "<table border=\"1\" class=\"dataframe\">\n",
       "  <thead>\n",
       "    <tr style=\"text-align: right;\">\n",
       "      <th></th>\n",
       "      <th>PassengerId</th>\n",
       "      <th>Survived</th>\n",
       "      <th>Pclass</th>\n",
       "      <th>Age</th>\n",
       "      <th>SibSp</th>\n",
       "      <th>Parch</th>\n",
       "      <th>Fare</th>\n",
       "    </tr>\n",
       "  </thead>\n",
       "  <tbody>\n",
       "    <tr>\n",
       "      <th>count</th>\n",
       "      <td>891.000000</td>\n",
       "      <td>891.000000</td>\n",
       "      <td>891.000000</td>\n",
       "      <td>891.000000</td>\n",
       "      <td>891.000000</td>\n",
       "      <td>891.000000</td>\n",
       "      <td>891.000000</td>\n",
       "    </tr>\n",
       "    <tr>\n",
       "      <th>mean</th>\n",
       "      <td>446.000000</td>\n",
       "      <td>0.383838</td>\n",
       "      <td>2.308642</td>\n",
       "      <td>29.361582</td>\n",
       "      <td>0.523008</td>\n",
       "      <td>0.381594</td>\n",
       "      <td>32.204208</td>\n",
       "    </tr>\n",
       "    <tr>\n",
       "      <th>std</th>\n",
       "      <td>257.353842</td>\n",
       "      <td>0.486592</td>\n",
       "      <td>0.836071</td>\n",
       "      <td>13.019697</td>\n",
       "      <td>1.102743</td>\n",
       "      <td>0.806057</td>\n",
       "      <td>49.693429</td>\n",
       "    </tr>\n",
       "    <tr>\n",
       "      <th>min</th>\n",
       "      <td>1.000000</td>\n",
       "      <td>0.000000</td>\n",
       "      <td>1.000000</td>\n",
       "      <td>0.420000</td>\n",
       "      <td>0.000000</td>\n",
       "      <td>0.000000</td>\n",
       "      <td>0.000000</td>\n",
       "    </tr>\n",
       "    <tr>\n",
       "      <th>25%</th>\n",
       "      <td>223.500000</td>\n",
       "      <td>0.000000</td>\n",
       "      <td>2.000000</td>\n",
       "      <td>22.000000</td>\n",
       "      <td>0.000000</td>\n",
       "      <td>0.000000</td>\n",
       "      <td>7.910400</td>\n",
       "    </tr>\n",
       "    <tr>\n",
       "      <th>50%</th>\n",
       "      <td>446.000000</td>\n",
       "      <td>0.000000</td>\n",
       "      <td>3.000000</td>\n",
       "      <td>28.000000</td>\n",
       "      <td>0.000000</td>\n",
       "      <td>0.000000</td>\n",
       "      <td>14.454200</td>\n",
       "    </tr>\n",
       "    <tr>\n",
       "      <th>75%</th>\n",
       "      <td>668.500000</td>\n",
       "      <td>1.000000</td>\n",
       "      <td>3.000000</td>\n",
       "      <td>35.000000</td>\n",
       "      <td>1.000000</td>\n",
       "      <td>0.000000</td>\n",
       "      <td>31.000000</td>\n",
       "    </tr>\n",
       "    <tr>\n",
       "      <th>max</th>\n",
       "      <td>891.000000</td>\n",
       "      <td>1.000000</td>\n",
       "      <td>3.000000</td>\n",
       "      <td>80.000000</td>\n",
       "      <td>8.000000</td>\n",
       "      <td>6.000000</td>\n",
       "      <td>512.329200</td>\n",
       "    </tr>\n",
       "  </tbody>\n",
       "</table>\n",
       "</div>"
      ],
      "text/plain": [
       "       PassengerId    Survived      Pclass         Age       SibSp  \\\n",
       "count   891.000000  891.000000  891.000000  891.000000  891.000000   \n",
       "mean    446.000000    0.383838    2.308642   29.361582    0.523008   \n",
       "std     257.353842    0.486592    0.836071   13.019697    1.102743   \n",
       "min       1.000000    0.000000    1.000000    0.420000    0.000000   \n",
       "25%     223.500000    0.000000    2.000000   22.000000    0.000000   \n",
       "50%     446.000000    0.000000    3.000000   28.000000    0.000000   \n",
       "75%     668.500000    1.000000    3.000000   35.000000    1.000000   \n",
       "max     891.000000    1.000000    3.000000   80.000000    8.000000   \n",
       "\n",
       "            Parch        Fare  \n",
       "count  891.000000  891.000000  \n",
       "mean     0.381594   32.204208  \n",
       "std      0.806057   49.693429  \n",
       "min      0.000000    0.000000  \n",
       "25%      0.000000    7.910400  \n",
       "50%      0.000000   14.454200  \n",
       "75%      0.000000   31.000000  \n",
       "max      6.000000  512.329200  "
      ]
     },
     "execution_count": 7,
     "metadata": {},
     "output_type": "execute_result"
    }
   ],
   "source": [
    "data.describe()"
   ]
  },
  {
   "cell_type": "code",
   "execution_count": 8,
   "metadata": {
    "nbpresent": {
     "id": "a0b93356-db14-4503-befc-d090fd954942"
    }
   },
   "outputs": [
    {
     "data": {
      "text/plain": [
       "<matplotlib.axes._subplots.AxesSubplot at 0x7f1709c1eef0>"
      ]
     },
     "execution_count": 8,
     "metadata": {},
     "output_type": "execute_result"
    },
    {
     "data": {
      "image/png": "[encoded data removed]",
      "text/plain": [
       "<matplotlib.figure.Figure at 0x7f1709c1e588>"
      ]
     },
     "metadata": {},
     "output_type": "display_data"
    }
   ],
   "source": [
    "survived_sex = data[data['Survived']==1]['Sex'].value_counts()\n",
    "dead_sex = data[data['Survived']==0]['Sex'].value_counts()\n",
    "df = pd.DataFrame([survived_sex,dead_sex])\n",
    "df.index = ['Survived','Dead']\n",
    "df.plot(kind='bar',stacked=True, figsize=(15,8))"
   ]
  },
  {
   "cell_type": "code",
   "execution_count": 9,
   "metadata": {
    "collapsed": true,
    "nbpresent": {
     "id": "1769b945-52d8-4db7-a2b5-a18ccae4dd11"
    }
   },
   "outputs": [],
   "source": [
    "#Sacamos que el sexo parece ser un factor clave ya que sobrevivieron mas mujeres, veamos comparandolo con las edades"
   ]
  },
  {
   "cell_type": "code",
   "execution_count": 10,
   "metadata": {
    "nbpresent": {
     "id": "c69bbb39-1a09-49a9-8a47-2db8b7ff5782"
    }
   },
   "outputs": [
    {
     "data": {
      "text/plain": [
       "<matplotlib.legend.Legend at 0x7f1709b067b8>"
      ]
     },
     "execution_count": 10,
     "metadata": {},
     "output_type": "execute_result"
    },
    {
     "data": {
      "image/png": "[encoded data removed]",
      "text/plain": [
       "<matplotlib.figure.Figure at 0x7f1709c1e320>"
      ]
     },
     "metadata": {},
     "output_type": "display_data"
    }
   ],
   "source": [
    "figure = plt.figure(figsize=(15,8))\n",
    "plt.hist([data[data['Survived']==1]['Age'],data[data['Survived']==0]['Age']], \n",
    "         stacked=True, color = ['g','r'], bins = 25,label = ['Survived','Dead'])\n",
    "plt.xlabel('Age')\n",
    "plt.ylabel('Number of passengers')\n",
    "plt.legend()\n",
    "#Vemos que el grupo con menos muertos y mas supervivientes a la vez lo forman los menores de 10\n",
    "#lo que corresponde a Subid a los botes a mujeres y niÃ±os primero!"
   ]
  },
  {
   "cell_type": "code",
   "execution_count": 11,
   "metadata": {
    "nbpresent": {
     "id": "fb4689ba-906b-44bc-ad94-b9bc73f616c8"
    }
   },
   "outputs": [
    {
     "data": {
      "text/plain": [
       "<matplotlib.legend.Legend at 0x7f1707886278>"
      ]
     },
     "execution_count": 11,
     "metadata": {},
     "output_type": "execute_result"
    },
    {
     "data": {
      "image/png": "[encoded data removed]",
      "text/plain": [
       "<matplotlib.figure.Figure at 0x7f1709ae4668>"
      ]
     },
     "metadata": {},
     "output_type": "display_data"
    }
   ],
   "source": [
    "figure = plt.figure(figsize=(15,8))\n",
    "plt.hist([data[data['Survived']==1]['Fare'],data[data['Survived']==0]['Fare']],\n",
    "         stacked=True, color = ['g','r'], bins = 25, label = ['Survived','Dead'])\n",
    "plt.xlabel('Fare')\n",
    "plt.ylabel('Number of passengers')\n",
    "plt.legend()\n",
    "#Comparando los tickets vemos que con los tickets de inferior valor era mas probable morir"
   ]
  },
  {
   "cell_type": "code",
   "execution_count": 12,
   "metadata": {
    "nbpresent": {
     "id": "6d62d539-3431-4df9-bbfd-360804d057df"
    }
   },
   "outputs": [
    {
     "data": {
      "text/plain": [
       "<matplotlib.legend.Legend at 0x7f17076e55c0>"
      ]
     },
     "execution_count": 12,
     "metadata": {},
     "output_type": "execute_result"
    },
    {
     "data": {
      "image/png": "[encoded data removed]",
      "text/plain": [
       "<matplotlib.figure.Figure at 0x7f1707825b70>"
      ]
     },
     "metadata": {},
     "output_type": "display_data"
    }
   ],
   "source": [
    "#Combinando los tickets, la edad y si sobrevivieron o no podemos ver\n",
    "plt.figure(figsize=(15,8))\n",
    "ax = plt.subplot()\n",
    "ax.scatter(data[data['Survived']==1]['Age'],data[data['Survived']==1]['Fare'],c='green',s=40)\n",
    "ax.scatter(data[data['Survived']==0]['Age'],data[data['Survived']==0]['Fare'],c='red',s=40)\n",
    "ax.set_xlabel('Age')\n",
    "ax.set_ylabel('Fare')\n",
    "ax.legend(('survived','dead'),scatterpoints=1,loc='upper right',fontsize=15,)"
   ]
  },
  {
   "cell_type": "code",
   "execution_count": 13,
   "metadata": {
    "nbpresent": {
     "id": "125ec916-e4c6-41b9-b8f7-630073ac83b2"
    }
   },
   "outputs": [
    {
     "name": "stdout",
     "output_type": "stream",
     "text": [
      "     PassengerId  Survived  Pclass                                Name  \\\n",
      "258          259         1       1                    Ward, Miss. Anna   \n",
      "679          680         1       1  Cardeza, Mr. Thomas Drake Martinez   \n",
      "737          738         1       1              Lesurer, Mr. Gustave J   \n",
      "\n",
      "        Sex   Age  SibSp  Parch    Ticket      Fare        Cabin Embarked  \n",
      "258  female  35.0      0      0  PC 17755  512.3292          NaN        C  \n",
      "679    male  36.0      0      1  PC 17755  512.3292  B51 B53 B55        C  \n",
      "737    male  35.0      0      0  PC 17755  512.3292         B101        C  \n"
     ]
    }
   ],
   "source": [
    "print(data[data['Fare']>400])"
   ]
  },
  {
   "cell_type": "code",
   "execution_count": 14,
   "metadata": {
    "nbpresent": {
     "id": "a66c5df1-31d9-41c2-99ff-e9561f8ddb00"
    }
   },
   "outputs": [
    {
     "data": {
      "text/plain": [
       "<matplotlib.axes._subplots.AxesSubplot at 0x7f1709c18c50>"
      ]
     },
     "execution_count": 14,
     "metadata": {},
     "output_type": "execute_result"
    },
    {
     "data": {
      "image/png": "[encoded data removed]",
      "text/plain": [
       "<matplotlib.figure.Figure at 0x7f17098ed630>"
      ]
     },
     "metadata": {},
     "output_type": "display_data"
    }
   ],
   "source": [
    "ax = plt.subplot()\n",
    "data.groupby('Pclass').mean()['Fare'].plot(kind='bar',figsize=(15,8), ax = ax)\n",
    "#Mirando las clases de los tickets vemos que la mayoria de muertos se presentan en los billetes mas baratos"
   ]
  },
  {
   "cell_type": "code",
   "execution_count": 15,
   "metadata": {
    "nbpresent": {
     "id": "1ba57caf-ad3d-4d31-8759-b15a135e9d1f"
    }
   },
   "outputs": [
    {
     "data": {
      "text/plain": [
       "<matplotlib.axes._subplots.AxesSubplot at 0x7f1707647be0>"
      ]
     },
     "execution_count": 15,
     "metadata": {},
     "output_type": "execute_result"
    },
    {
     "data": {
      "image/png": "[encoded data removed]",
      "text/plain": [
       "<matplotlib.figure.Figure at 0x7f17076799b0>"
      ]
     },
     "metadata": {},
     "output_type": "display_data"
    }
   ],
   "source": [
    "survived_embark = data[data['Survived']==1]['Embarked'].value_counts()\n",
    "dead_embark = data[data['Survived']==0]['Embarked'].value_counts()\n",
    "df = pd.DataFrame([survived_embark,dead_embark])\n",
    "df.index = ['Survived','Dead']\n",
    "df.plot(kind='bar',stacked=True, figsize=(15,8))\n",
    "#La ubicacion donde se subieron parece no tener importancia"
   ]
  },
  {
   "cell_type": "markdown",
   "metadata": {
    "nbpresent": {
     "id": "11812fbc-22b9-4faf-9cef-f98d9197fedf"
    }
   },
   "source": [
    "# Parte 2. Ingenieria de las caracteristicas, columnas o features."
   ]
  },
  {
   "cell_type": "code",
   "execution_count": 16,
   "metadata": {
    "collapsed": true,
    "nbpresent": {
     "id": "748f3dfb-c317-4017-bc8f-b3a84b5f1d51"
    }
   },
   "outputs": [],
   "source": [
    "#Suele ser buena idea combinar el set de testeo con el de training,\n",
    "#especialmente cuando el de testeo tiene una feature que el de training no\n",
    "\n",
    "def get_combined_data():\n",
    "    data_training = ws.datasets['train-titanic.csv']\n",
    "    data_test = ws.datasets['test-titanic.csv']\n",
    "    # reading train data\n",
    "    train = data_training.to_dataframe()\n",
    "    \n",
    "    # reading test data\n",
    "    test = data_test.to_dataframe();\n",
    "\n",
    "    # extracting and then removing the targets from the training data \n",
    "    targets = train.Survived\n",
    "    train.drop('Survived',1,inplace=True)\n",
    "    \n",
    "\n",
    "    # merging train data and test data for future feature engineering\n",
    "    combined = train.append(test)\n",
    "    combined.reset_index(inplace=True)\n",
    "    combined.drop('index',inplace=True,axis=1)\n",
    "    \n",
    "    return combined\n",
    "\n",
    "\n"
   ]
  },
  {
   "cell_type": "code",
   "execution_count": 17,
   "metadata": {
    "collapsed": true,
    "nbpresent": {
     "id": "f3750a56-fe81-4484-948e-9c38489731ad"
    }
   },
   "outputs": [],
   "source": [
    "combined = get_combined_data()"
   ]
  },
  {
   "cell_type": "code",
   "execution_count": 18,
   "metadata": {
    "nbpresent": {
     "id": "82103f2b-275c-4c8e-bc82-109b4c0eff36"
    }
   },
   "outputs": [
    {
     "data": {
      "text/plain": [
       "(1309, 11)"
      ]
     },
     "execution_count": 18,
     "metadata": {},
     "output_type": "execute_result"
    }
   ],
   "source": [
    "#Devuelve la forma de la variable, en este caso devuelve que tiene 1309 filas y 11 columnas combinando entrenamiento y pruebas\n",
    "combined.shape"
   ]
  },
  {
   "cell_type": "code",
   "execution_count": 19,
   "metadata": {
    "collapsed": true,
    "nbpresent": {
     "id": "176c6565-99e0-4e47-b06a-bdee5234438a"
    }
   },
   "outputs": [],
   "source": [
    "def get_titles():\n",
    "\n",
    "    global combined\n",
    "    \n",
    "    # we extract the title from each name\n",
    "    combined['Title'] = combined['Name'].map(lambda name:name.split(',')[1].split('.')[0].strip())\n",
    "    \n",
    "    # a map of more aggregated titles\n",
    "    Title_Dictionary = {\n",
    "                        \"Capt\":       \"Officer\",\n",
    "                        \"Col\":        \"Officer\",\n",
    "                        \"Major\":      \"Officer\",\n",
    "                        \"Jonkheer\":   \"Royalty\",\n",
    "                        \"Don\":        \"Royalty\",\n",
    "                        \"Sir\" :       \"Royalty\",\n",
    "                        \"Dr\":         \"Officer\",\n",
    "                        \"Rev\":        \"Officer\",\n",
    "                        \"the Countess\":\"Royalty\",\n",
    "                        \"Dona\":       \"Royalty\",\n",
    "                        \"Mme\":        \"Mrs\",\n",
    "                        \"Mlle\":       \"Miss\",\n",
    "                        \"Ms\":         \"Mrs\",\n",
    "                        \"Mr\" :        \"Mr\",\n",
    "                        \"Mrs\" :       \"Mrs\",\n",
    "                        \"Miss\" :      \"Miss\",\n",
    "                        \"Master\" :    \"Master\",\n",
    "                        \"Lady\" :      \"Royalty\"\n",
    "\n",
    "                        }\n",
    "    \n",
    "    # we map each title\n",
    "\n",
    "    combined['Title'] = combined.Title.map(Title_Dictionary)\n",
    "    \n",
    "get_titles()"
   ]
  },
  {
   "cell_type": "code",
   "execution_count": 20,
   "metadata": {
    "nbpresent": {
     "id": "0e22aa13-f671-414c-b1da-e1a8e648d7be"
    }
   },
   "outputs": [
    {
     "data": {
      "text/html": [
       "<div>\n",
       "<style>\n",
       "    .dataframe thead tr:only-child th {\n",
       "        text-align: right;\n",
       "    }\n",
       "\n",
       "    .dataframe thead th {\n",
       "        text-align: left;\n",
       "    }\n",
       "\n",
       "    .dataframe tbody tr th {\n",
       "        vertical-align: top;\n",
       "    }\n",
       "</style>\n",
       "<table border=\"1\" class=\"dataframe\">\n",
       "  <thead>\n",
       "    <tr style=\"text-align: right;\">\n",
       "      <th></th>\n",
       "      <th>PassengerId</th>\n",
       "      <th>Pclass</th>\n",
       "      <th>Name</th>\n",
       "      <th>Sex</th>\n",
       "      <th>Age</th>\n",
       "      <th>SibSp</th>\n",
       "      <th>Parch</th>\n",
       "      <th>Ticket</th>\n",
       "      <th>Fare</th>\n",
       "      <th>Cabin</th>\n",
       "      <th>Embarked</th>\n",
       "      <th>Title</th>\n",
       "    </tr>\n",
       "  </thead>\n",
       "  <tbody>\n",
       "    <tr>\n",
       "      <th>0</th>\n",
       "      <td>1</td>\n",
       "      <td>3</td>\n",
       "      <td>Braund, Mr. Owen Harris</td>\n",
       "      <td>male</td>\n",
       "      <td>22.0</td>\n",
       "      <td>1</td>\n",
       "      <td>0</td>\n",
       "      <td>A/5 21171</td>\n",
       "      <td>7.2500</td>\n",
       "      <td>NaN</td>\n",
       "      <td>S</td>\n",
       "      <td>Mr</td>\n",
       "    </tr>\n",
       "    <tr>\n",
       "      <th>1</th>\n",
       "      <td>2</td>\n",
       "      <td>1</td>\n",
       "      <td>Cumings, Mrs. John Bradley (Florence Briggs Th...</td>\n",
       "      <td>female</td>\n",
       "      <td>38.0</td>\n",
       "      <td>1</td>\n",
       "      <td>0</td>\n",
       "      <td>PC 17599</td>\n",
       "      <td>71.2833</td>\n",
       "      <td>C85</td>\n",
       "      <td>C</td>\n",
       "      <td>Mrs</td>\n",
       "    </tr>\n",
       "    <tr>\n",
       "      <th>2</th>\n",
       "      <td>3</td>\n",
       "      <td>3</td>\n",
       "      <td>Heikkinen, Miss. Laina</td>\n",
       "      <td>female</td>\n",
       "      <td>26.0</td>\n",
       "      <td>0</td>\n",
       "      <td>0</td>\n",
       "      <td>STON/O2. 3101282</td>\n",
       "      <td>7.9250</td>\n",
       "      <td>NaN</td>\n",
       "      <td>S</td>\n",
       "      <td>Miss</td>\n",
       "    </tr>\n",
       "    <tr>\n",
       "      <th>3</th>\n",
       "      <td>4</td>\n",
       "      <td>1</td>\n",
       "      <td>Futrelle, Mrs. Jacques Heath (Lily May Peel)</td>\n",
       "      <td>female</td>\n",
       "      <td>35.0</td>\n",
       "      <td>1</td>\n",
       "      <td>0</td>\n",
       "      <td>113803</td>\n",
       "      <td>53.1000</td>\n",
       "      <td>C123</td>\n",
       "      <td>S</td>\n",
       "      <td>Mrs</td>\n",
       "    </tr>\n",
       "    <tr>\n",
       "      <th>4</th>\n",
       "      <td>5</td>\n",
       "      <td>3</td>\n",
       "      <td>Allen, Mr. William Henry</td>\n",
       "      <td>male</td>\n",
       "      <td>35.0</td>\n",
       "      <td>0</td>\n",
       "      <td>0</td>\n",
       "      <td>373450</td>\n",
       "      <td>8.0500</td>\n",
       "      <td>NaN</td>\n",
       "      <td>S</td>\n",
       "      <td>Mr</td>\n",
       "    </tr>\n",
       "  </tbody>\n",
       "</table>\n",
       "</div>"
      ],
      "text/plain": [
       "   PassengerId  Pclass                                               Name  \\\n",
       "0            1       3                            Braund, Mr. Owen Harris   \n",
       "1            2       1  Cumings, Mrs. John Bradley (Florence Briggs Th...   \n",
       "2            3       3                             Heikkinen, Miss. Laina   \n",
       "3            4       1       Futrelle, Mrs. Jacques Heath (Lily May Peel)   \n",
       "4            5       3                           Allen, Mr. William Henry   \n",
       "\n",
       "      Sex   Age  SibSp  Parch            Ticket     Fare Cabin Embarked Title  \n",
       "0    male  22.0      1      0         A/5 21171   7.2500   NaN        S    Mr  \n",
       "1  female  38.0      1      0          PC 17599  71.2833   C85        C   Mrs  \n",
       "2  female  26.0      0      0  STON/O2. 3101282   7.9250   NaN        S  Miss  \n",
       "3  female  35.0      1      0            113803  53.1000  C123        S   Mrs  \n",
       "4    male  35.0      0      0            373450   8.0500   NaN        S    Mr  "
      ]
     },
     "execution_count": 20,
     "metadata": {},
     "output_type": "execute_result"
    }
   ],
   "source": [
    "combined.head()"
   ]
  },
  {
   "cell_type": "code",
   "execution_count": 21,
   "metadata": {
    "nbpresent": {
     "id": "2ab52cd1-1429-4dc5-94a2-4683f3de2993"
    }
   },
   "outputs": [
    {
     "data": {
      "text/html": [
       "<div>\n",
       "<style>\n",
       "    .dataframe thead tr:only-child th {\n",
       "        text-align: right;\n",
       "    }\n",
       "\n",
       "    .dataframe thead th {\n",
       "        text-align: left;\n",
       "    }\n",
       "\n",
       "    .dataframe tbody tr th {\n",
       "        vertical-align: top;\n",
       "    }\n",
       "</style>\n",
       "<table border=\"1\" class=\"dataframe\">\n",
       "  <thead>\n",
       "    <tr style=\"text-align: right;\">\n",
       "      <th></th>\n",
       "      <th></th>\n",
       "      <th></th>\n",
       "      <th>PassengerId</th>\n",
       "      <th>Age</th>\n",
       "      <th>SibSp</th>\n",
       "      <th>Parch</th>\n",
       "      <th>Fare</th>\n",
       "    </tr>\n",
       "    <tr>\n",
       "      <th>Sex</th>\n",
       "      <th>Pclass</th>\n",
       "      <th>Title</th>\n",
       "      <th></th>\n",
       "      <th></th>\n",
       "      <th></th>\n",
       "      <th></th>\n",
       "      <th></th>\n",
       "    </tr>\n",
       "  </thead>\n",
       "  <tbody>\n",
       "    <tr>\n",
       "      <th rowspan=\"8\" valign=\"top\">female</th>\n",
       "      <th rowspan=\"4\" valign=\"top\">1</th>\n",
       "      <th>Miss</th>\n",
       "      <td>529.5</td>\n",
       "      <td>30.0</td>\n",
       "      <td>0.0</td>\n",
       "      <td>0.0</td>\n",
       "      <td>99.9625</td>\n",
       "    </tr>\n",
       "    <tr>\n",
       "      <th>Mrs</th>\n",
       "      <td>853.5</td>\n",
       "      <td>45.0</td>\n",
       "      <td>1.0</td>\n",
       "      <td>0.0</td>\n",
       "      <td>78.1125</td>\n",
       "    </tr>\n",
       "    <tr>\n",
       "      <th>Officer</th>\n",
       "      <td>797.0</td>\n",
       "      <td>49.0</td>\n",
       "      <td>0.0</td>\n",
       "      <td>0.0</td>\n",
       "      <td>25.9292</td>\n",
       "    </tr>\n",
       "    <tr>\n",
       "      <th>Royalty</th>\n",
       "      <td>760.0</td>\n",
       "      <td>39.0</td>\n",
       "      <td>0.0</td>\n",
       "      <td>0.0</td>\n",
       "      <td>86.5000</td>\n",
       "    </tr>\n",
       "    <tr>\n",
       "      <th rowspan=\"2\" valign=\"top\">2</th>\n",
       "      <th>Miss</th>\n",
       "      <td>606.5</td>\n",
       "      <td>20.0</td>\n",
       "      <td>0.0</td>\n",
       "      <td>0.0</td>\n",
       "      <td>20.2500</td>\n",
       "    </tr>\n",
       "    <tr>\n",
       "      <th>Mrs</th>\n",
       "      <td>533.0</td>\n",
       "      <td>30.0</td>\n",
       "      <td>1.0</td>\n",
       "      <td>0.0</td>\n",
       "      <td>26.0000</td>\n",
       "    </tr>\n",
       "    <tr>\n",
       "      <th rowspan=\"2\" valign=\"top\">3</th>\n",
       "      <th>Miss</th>\n",
       "      <td>603.5</td>\n",
       "      <td>18.0</td>\n",
       "      <td>0.0</td>\n",
       "      <td>0.0</td>\n",
       "      <td>8.0500</td>\n",
       "    </tr>\n",
       "    <tr>\n",
       "      <th>Mrs</th>\n",
       "      <td>668.5</td>\n",
       "      <td>31.0</td>\n",
       "      <td>1.0</td>\n",
       "      <td>1.0</td>\n",
       "      <td>15.5000</td>\n",
       "    </tr>\n",
       "    <tr>\n",
       "      <th rowspan=\"9\" valign=\"top\">male</th>\n",
       "      <th rowspan=\"4\" valign=\"top\">1</th>\n",
       "      <th>Master</th>\n",
       "      <td>803.0</td>\n",
       "      <td>6.0</td>\n",
       "      <td>1.0</td>\n",
       "      <td>2.0</td>\n",
       "      <td>134.5000</td>\n",
       "    </tr>\n",
       "    <tr>\n",
       "      <th>Mr</th>\n",
       "      <td>634.0</td>\n",
       "      <td>41.5</td>\n",
       "      <td>0.0</td>\n",
       "      <td>0.0</td>\n",
       "      <td>47.1000</td>\n",
       "    </tr>\n",
       "    <tr>\n",
       "      <th>Officer</th>\n",
       "      <td>678.0</td>\n",
       "      <td>52.0</td>\n",
       "      <td>0.0</td>\n",
       "      <td>0.0</td>\n",
       "      <td>37.5500</td>\n",
       "    </tr>\n",
       "    <tr>\n",
       "      <th>Royalty</th>\n",
       "      <td>600.0</td>\n",
       "      <td>40.0</td>\n",
       "      <td>0.0</td>\n",
       "      <td>0.0</td>\n",
       "      <td>27.7208</td>\n",
       "    </tr>\n",
       "    <tr>\n",
       "      <th rowspan=\"3\" valign=\"top\">2</th>\n",
       "      <th>Master</th>\n",
       "      <td>550.0</td>\n",
       "      <td>2.0</td>\n",
       "      <td>1.0</td>\n",
       "      <td>1.0</td>\n",
       "      <td>26.0000</td>\n",
       "    </tr>\n",
       "    <tr>\n",
       "      <th>Mr</th>\n",
       "      <td>723.5</td>\n",
       "      <td>30.0</td>\n",
       "      <td>0.0</td>\n",
       "      <td>0.0</td>\n",
       "      <td>13.0000</td>\n",
       "    </tr>\n",
       "    <tr>\n",
       "      <th>Officer</th>\n",
       "      <td>513.0</td>\n",
       "      <td>41.5</td>\n",
       "      <td>0.0</td>\n",
       "      <td>0.0</td>\n",
       "      <td>13.0000</td>\n",
       "    </tr>\n",
       "    <tr>\n",
       "      <th rowspan=\"2\" valign=\"top\">3</th>\n",
       "      <th>Master</th>\n",
       "      <td>789.0</td>\n",
       "      <td>6.0</td>\n",
       "      <td>3.0</td>\n",
       "      <td>1.0</td>\n",
       "      <td>22.3583</td>\n",
       "    </tr>\n",
       "    <tr>\n",
       "      <th>Mr</th>\n",
       "      <td>640.5</td>\n",
       "      <td>26.0</td>\n",
       "      <td>0.0</td>\n",
       "      <td>0.0</td>\n",
       "      <td>7.8958</td>\n",
       "    </tr>\n",
       "  </tbody>\n",
       "</table>\n",
       "</div>"
      ],
      "text/plain": [
       "                       PassengerId   Age  SibSp  Parch      Fare\n",
       "Sex    Pclass Title                                             \n",
       "female 1      Miss           529.5  30.0    0.0    0.0   99.9625\n",
       "              Mrs            853.5  45.0    1.0    0.0   78.1125\n",
       "              Officer        797.0  49.0    0.0    0.0   25.9292\n",
       "              Royalty        760.0  39.0    0.0    0.0   86.5000\n",
       "       2      Miss           606.5  20.0    0.0    0.0   20.2500\n",
       "              Mrs            533.0  30.0    1.0    0.0   26.0000\n",
       "       3      Miss           603.5  18.0    0.0    0.0    8.0500\n",
       "              Mrs            668.5  31.0    1.0    1.0   15.5000\n",
       "male   1      Master         803.0   6.0    1.0    2.0  134.5000\n",
       "              Mr             634.0  41.5    0.0    0.0   47.1000\n",
       "              Officer        678.0  52.0    0.0    0.0   37.5500\n",
       "              Royalty        600.0  40.0    0.0    0.0   27.7208\n",
       "       2      Master         550.0   2.0    1.0    1.0   26.0000\n",
       "              Mr             723.5  30.0    0.0    0.0   13.0000\n",
       "              Officer        513.0  41.5    0.0    0.0   13.0000\n",
       "       3      Master         789.0   6.0    3.0    1.0   22.3583\n",
       "              Mr             640.5  26.0    0.0    0.0    7.8958"
      ]
     },
     "execution_count": 21,
     "metadata": {},
     "output_type": "execute_result"
    }
   ],
   "source": [
    "# Hemos visto antes que faltaba 177 valores de edad, esto es un gran numero, un 13% de toda la muestra.\n",
    "# Reemplazar los NaN por la media o la mediana no suele ser lo mejor ya que la edad puede diferir por grupos o categorias de pasajeros.\n",
    "\n",
    "grouped = combined.groupby(['Sex','Pclass','Title'])\n",
    "grouped.median() # Calcula la mediana del resto de atributos, como la edad, hermanos o esposas, padres o hijos o el ticket"
   ]
  },
  {
   "cell_type": "code",
   "execution_count": 22,
   "metadata": {
    "collapsed": true,
    "nbpresent": {
     "id": "5736c47e-dd7b-4148-8a26-5fa55925c2a2"
    }
   },
   "outputs": [],
   "source": [
    "# Se mira el sexo, clase y titulo para rellenar los valores vacios de ese grupo con la mediana de ese grupo\n",
    "def process_age():\n",
    "    combined[\"Age\"] = combined.groupby(['Sex','Pclass','Title'])['Age'].transform(lambda x: x.fillna(x.median()))"
   ]
  },
  {
   "cell_type": "code",
   "execution_count": 23,
   "metadata": {
    "collapsed": true,
    "nbpresent": {
     "id": "7f44f865-f160-4046-9ee6-13c71d0f621f"
    }
   },
   "outputs": [],
   "source": [
    "process_age()"
   ]
  },
  {
   "cell_type": "code",
   "execution_count": 24,
   "metadata": {
    "nbpresent": {
     "id": "b7b0ac8e-c75b-428a-8aec-55d0a3d1034a"
    }
   },
   "outputs": [
    {
     "name": "stdout",
     "output_type": "stream",
     "text": [
      "<class 'pandas.core.frame.DataFrame'>\n",
      "RangeIndex: 1309 entries, 0 to 1308\n",
      "Data columns (total 12 columns):\n",
      "PassengerId    1309 non-null int64\n",
      "Pclass         1309 non-null int64\n",
      "Name           1309 non-null object\n",
      "Sex            1309 non-null object\n",
      "Age            1309 non-null float64\n",
      "SibSp          1309 non-null int64\n",
      "Parch          1309 non-null int64\n",
      "Ticket         1309 non-null object\n",
      "Fare           1308 non-null float64\n",
      "Cabin          295 non-null object\n",
      "Embarked       1307 non-null object\n",
      "Title          1309 non-null object\n",
      "dtypes: float64(2), int64(4), object(6)\n",
      "memory usage: 122.8+ KB\n"
     ]
    }
   ],
   "source": [
    "# Vemos que hemos rellenado la edad y son 1309 campos, pero tambien vemos que en tickets o cabinas faltan muchos datos\n",
    "combined.info()"
   ]
  },
  {
   "cell_type": "code",
   "execution_count": 25,
   "metadata": {
    "collapsed": true,
    "nbpresent": {
     "id": "67f458df-4d87-4914-82a4-ef4ef52617d2"
    }
   },
   "outputs": [],
   "source": [
    "# Quitamos la columna del nombre ya que con lacolumna del titulo ya no nos hace falta\n",
    "# Y encodeamos los titulos con un dummy encoding http://pandas.pydata.org/pandas-docs/stable/generated/pandas.get_dummies.html\n",
    "# Es decir ahora las variables de titulos seran binarias \n",
    "def process_names():\n",
    "    \n",
    "    global combined\n",
    "    # we clean the Name variable\n",
    "    combined.drop('Name',axis=1,inplace=True)\n",
    "    \n",
    "    # encoding in dummy variable\n",
    "    titles_dummies = pd.get_dummies(combined['Title'],prefix='Title')\n",
    "    combined = pd.concat([combined,titles_dummies],axis=1)\n",
    "    \n",
    "    # removing the title variable\n",
    "    combined.drop('Title',axis=1,inplace=True)"
   ]
  },
  {
   "cell_type": "code",
   "execution_count": 26,
   "metadata": {
    "collapsed": true,
    "nbpresent": {
     "id": "c92a2163-d341-4d1b-9df9-a4352d38a503"
    }
   },
   "outputs": [],
   "source": [
    "process_names()"
   ]
  },
  {
   "cell_type": "code",
   "execution_count": 27,
   "metadata": {
    "nbpresent": {
     "id": "23bcf057-52d8-4277-a1df-0f8ea0fdc5d8"
    }
   },
   "outputs": [
    {
     "data": {
      "text/html": [
       "<div>\n",
       "<style>\n",
       "    .dataframe thead tr:only-child th {\n",
       "        text-align: right;\n",
       "    }\n",
       "\n",
       "    .dataframe thead th {\n",
       "        text-align: left;\n",
       "    }\n",
       "\n",
       "    .dataframe tbody tr th {\n",
       "        vertical-align: top;\n",
       "    }\n",
       "</style>\n",
       "<table border=\"1\" class=\"dataframe\">\n",
       "  <thead>\n",
       "    <tr style=\"text-align: right;\">\n",
       "      <th></th>\n",
       "      <th>PassengerId</th>\n",
       "      <th>Pclass</th>\n",
       "      <th>Sex</th>\n",
       "      <th>Age</th>\n",
       "      <th>SibSp</th>\n",
       "      <th>Parch</th>\n",
       "      <th>Ticket</th>\n",
       "      <th>Fare</th>\n",
       "      <th>Cabin</th>\n",
       "      <th>Embarked</th>\n",
       "      <th>Title_Master</th>\n",
       "      <th>Title_Miss</th>\n",
       "      <th>Title_Mr</th>\n",
       "      <th>Title_Mrs</th>\n",
       "      <th>Title_Officer</th>\n",
       "      <th>Title_Royalty</th>\n",
       "    </tr>\n",
       "  </thead>\n",
       "  <tbody>\n",
       "    <tr>\n",
       "      <th>0</th>\n",
       "      <td>1</td>\n",
       "      <td>3</td>\n",
       "      <td>male</td>\n",
       "      <td>22.0</td>\n",
       "      <td>1</td>\n",
       "      <td>0</td>\n",
       "      <td>A/5 21171</td>\n",
       "      <td>7.2500</td>\n",
       "      <td>NaN</td>\n",
       "      <td>S</td>\n",
       "      <td>0</td>\n",
       "      <td>0</td>\n",
       "      <td>1</td>\n",
       "      <td>0</td>\n",
       "      <td>0</td>\n",
       "      <td>0</td>\n",
       "    </tr>\n",
       "    <tr>\n",
       "      <th>1</th>\n",
       "      <td>2</td>\n",
       "      <td>1</td>\n",
       "      <td>female</td>\n",
       "      <td>38.0</td>\n",
       "      <td>1</td>\n",
       "      <td>0</td>\n",
       "      <td>PC 17599</td>\n",
       "      <td>71.2833</td>\n",
       "      <td>C85</td>\n",
       "      <td>C</td>\n",
       "      <td>0</td>\n",
       "      <td>0</td>\n",
       "      <td>0</td>\n",
       "      <td>1</td>\n",
       "      <td>0</td>\n",
       "      <td>0</td>\n",
       "    </tr>\n",
       "    <tr>\n",
       "      <th>2</th>\n",
       "      <td>3</td>\n",
       "      <td>3</td>\n",
       "      <td>female</td>\n",
       "      <td>26.0</td>\n",
       "      <td>0</td>\n",
       "      <td>0</td>\n",
       "      <td>STON/O2. 3101282</td>\n",
       "      <td>7.9250</td>\n",
       "      <td>NaN</td>\n",
       "      <td>S</td>\n",
       "      <td>0</td>\n",
       "      <td>1</td>\n",
       "      <td>0</td>\n",
       "      <td>0</td>\n",
       "      <td>0</td>\n",
       "      <td>0</td>\n",
       "    </tr>\n",
       "    <tr>\n",
       "      <th>3</th>\n",
       "      <td>4</td>\n",
       "      <td>1</td>\n",
       "      <td>female</td>\n",
       "      <td>35.0</td>\n",
       "      <td>1</td>\n",
       "      <td>0</td>\n",
       "      <td>113803</td>\n",
       "      <td>53.1000</td>\n",
       "      <td>C123</td>\n",
       "      <td>S</td>\n",
       "      <td>0</td>\n",
       "      <td>0</td>\n",
       "      <td>0</td>\n",
       "      <td>1</td>\n",
       "      <td>0</td>\n",
       "      <td>0</td>\n",
       "    </tr>\n",
       "    <tr>\n",
       "      <th>4</th>\n",
       "      <td>5</td>\n",
       "      <td>3</td>\n",
       "      <td>male</td>\n",
       "      <td>35.0</td>\n",
       "      <td>0</td>\n",
       "      <td>0</td>\n",
       "      <td>373450</td>\n",
       "      <td>8.0500</td>\n",
       "      <td>NaN</td>\n",
       "      <td>S</td>\n",
       "      <td>0</td>\n",
       "      <td>0</td>\n",
       "      <td>1</td>\n",
       "      <td>0</td>\n",
       "      <td>0</td>\n",
       "      <td>0</td>\n",
       "    </tr>\n",
       "  </tbody>\n",
       "</table>\n",
       "</div>"
      ],
      "text/plain": [
       "   PassengerId  Pclass     Sex   Age  SibSp  Parch            Ticket     Fare  \\\n",
       "0            1       3    male  22.0      1      0         A/5 21171   7.2500   \n",
       "1            2       1  female  38.0      1      0          PC 17599  71.2833   \n",
       "2            3       3  female  26.0      0      0  STON/O2. 3101282   7.9250   \n",
       "3            4       1  female  35.0      1      0            113803  53.1000   \n",
       "4            5       3    male  35.0      0      0            373450   8.0500   \n",
       "\n",
       "  Cabin Embarked  Title_Master  Title_Miss  Title_Mr  Title_Mrs  \\\n",
       "0   NaN        S             0           0         1          0   \n",
       "1   C85        C             0           0         0          1   \n",
       "2   NaN        S             0           1         0          0   \n",
       "3  C123        S             0           0         0          1   \n",
       "4   NaN        S             0           0         1          0   \n",
       "\n",
       "   Title_Officer  Title_Royalty  \n",
       "0              0              0  \n",
       "1              0              0  \n",
       "2              0              0  \n",
       "3              0              0  \n",
       "4              0              0  "
      ]
     },
     "execution_count": 27,
     "metadata": {},
     "output_type": "execute_result"
    }
   ],
   "source": [
    "combined.head()"
   ]
  },
  {
   "cell_type": "code",
   "execution_count": 28,
   "metadata": {
    "collapsed": true,
    "nbpresent": {
     "id": "4f0e82fc-3b17-466b-a3a5-fad138e066a7"
    }
   },
   "outputs": [],
   "source": [
    "# Sustituimos por la mediana los valores que falten\n",
    "def process_fares():\n",
    "    \n",
    "    global combined    \n",
    "    combined.Fare.fillna(combined.Fare.median(),inplace=True)\n",
    "\n",
    "process_fares()"
   ]
  },
  {
   "cell_type": "code",
   "execution_count": 29,
   "metadata": {
    "collapsed": true,
    "nbpresent": {
     "id": "24d80b3b-bbee-467e-8f4b-b1d3fab6ea12"
    }
   },
   "outputs": [],
   "source": [
    "# Sustituimos por el valor mas frecuente los valores que falten\n",
    "def process_embarked():\n",
    "    \n",
    "    global combined\n",
    "    # two missing embarked values - filling them with the most frequent one (S)\n",
    "    combined.Embarked.fillna('S',inplace=True)\n",
    "    \n",
    "    # dummy encoding \n",
    "    embarked_dummies = pd.get_dummies(combined['Embarked'],prefix='Embarked')\n",
    "    combined = pd.concat([combined,embarked_dummies],axis=1)\n",
    "    combined.drop('Embarked',axis=1,inplace=True)\n",
    "    \n",
    "process_embarked()"
   ]
  },
  {
   "cell_type": "code",
   "execution_count": 30,
   "metadata": {
    "collapsed": true,
    "nbpresent": {
     "id": "051be64c-3d66-477d-afb1-d1752c13e737"
    }
   },
   "outputs": [],
   "source": [
    "# Sustituimos por 'U' de Unknown los valores que falten\n",
    "def process_cabin():\n",
    "    \n",
    "    global combined\n",
    "    \n",
    "    # replacing missing cabins with U (for Uknown)\n",
    "    combined.Cabin.fillna('U',inplace=True)\n",
    "    \n",
    "    # mapping each Cabin value with the cabin letter\n",
    "    combined['Cabin'] = combined['Cabin'].map(lambda c : c[0])\n",
    "    \n",
    "    # dummy encoding ...\n",
    "    cabin_dummies = pd.get_dummies(combined['Cabin'],prefix='Cabin')\n",
    "    \n",
    "    combined = pd.concat([combined,cabin_dummies],axis=1)\n",
    "    \n",
    "    combined.drop('Cabin',axis=1,inplace=True)\n",
    "    \n",
    "process_cabin()"
   ]
  },
  {
   "cell_type": "code",
   "execution_count": 31,
   "metadata": {
    "nbpresent": {
     "id": "76821e33-cc9b-4e83-a524-0985cca56f4b"
    }
   },
   "outputs": [
    {
     "name": "stdout",
     "output_type": "stream",
     "text": [
      "<class 'pandas.core.frame.DataFrame'>\n",
      "RangeIndex: 1309 entries, 0 to 1308\n",
      "Data columns (total 26 columns):\n",
      "PassengerId      1309 non-null int64\n",
      "Pclass           1309 non-null int64\n",
      "Sex              1309 non-null object\n",
      "Age              1309 non-null float64\n",
      "SibSp            1309 non-null int64\n",
      "Parch            1309 non-null int64\n",
      "Ticket           1309 non-null object\n",
      "Fare             1309 non-null float64\n",
      "Title_Master     1309 non-null uint8\n",
      "Title_Miss       1309 non-null uint8\n",
      "Title_Mr         1309 non-null uint8\n",
      "Title_Mrs        1309 non-null uint8\n",
      "Title_Officer    1309 non-null uint8\n",
      "Title_Royalty    1309 non-null uint8\n",
      "Embarked_C       1309 non-null uint8\n",
      "Embarked_Q       1309 non-null uint8\n",
      "Embarked_S       1309 non-null uint8\n",
      "Cabin_A          1309 non-null uint8\n",
      "Cabin_B          1309 non-null uint8\n",
      "Cabin_C          1309 non-null uint8\n",
      "Cabin_D          1309 non-null uint8\n",
      "Cabin_E          1309 non-null uint8\n",
      "Cabin_F          1309 non-null uint8\n",
      "Cabin_G          1309 non-null uint8\n",
      "Cabin_T          1309 non-null uint8\n",
      "Cabin_U          1309 non-null uint8\n",
      "dtypes: float64(2), int64(4), object(2), uint8(18)\n",
      "memory usage: 104.9+ KB\n"
     ]
    }
   ],
   "source": [
    "combined.info() # Comprobamos que todas las filas de la muestra esten completas"
   ]
  },
  {
   "cell_type": "code",
   "execution_count": 32,
   "metadata": {
    "collapsed": true,
    "nbpresent": {
     "id": "0bd45cd6-4066-4334-a012-b9b068308954"
    }
   },
   "outputs": [],
   "source": [
    "def process_sex():\n",
    "    \n",
    "    global combined\n",
    "    # mapping string values to numerical one \n",
    "    combined['Sex'] = combined['Sex'].map({'male':1,'female':0})\n",
    "\n",
    "process_sex()"
   ]
  },
  {
   "cell_type": "code",
   "execution_count": 33,
   "metadata": {
    "collapsed": true,
    "nbpresent": {
     "id": "4cf2474a-118a-4bea-a0f5-422466fb788d"
    }
   },
   "outputs": [],
   "source": [
    "def process_pclass():\n",
    "    \n",
    "    global combined\n",
    "    # encoding into 3 categories:\n",
    "    pclass_dummies = pd.get_dummies(combined['Pclass'],prefix=\"Pclass\")\n",
    "    \n",
    "    # adding dummy variables\n",
    "    combined = pd.concat([combined,pclass_dummies],axis=1)\n",
    "    \n",
    "    # removing \"Pclass\"\n",
    "    \n",
    "    combined.drop('Pclass',axis=1,inplace=True)\n",
    "\n",
    "process_pclass()"
   ]
  },
  {
   "cell_type": "code",
   "execution_count": 34,
   "metadata": {
    "collapsed": true,
    "nbpresent": {
     "id": "9fd67817-9699-4b08-9429-ce1536a428b9"
    }
   },
   "outputs": [],
   "source": [
    "def process_ticket():\n",
    "    \n",
    "    global combined\n",
    "    \n",
    "    # a function that extracts each prefix of the ticket, returns 'XXX' if no prefix (i.e the ticket is a digit)\n",
    "    def cleanTicket(ticket):\n",
    "        ticket = ticket.replace('.','')\n",
    "        ticket = ticket.replace('/','')\n",
    "        ticket = ticket.split()\n",
    "        ticket = map(lambda t : t.strip() , ticket)\n",
    "        ticket = list(filter(lambda t : not t.isdigit(), ticket))\n",
    "        if len(ticket) > 0:\n",
    "            return ticket[0]\n",
    "        else: \n",
    "            return 'XXX'\n",
    "    \n",
    "\n",
    "    # Extracting dummy variables from tickets:\n",
    "\n",
    "    combined['Ticket'] = combined['Ticket'].map(cleanTicket)\n",
    "    tickets_dummies = pd.get_dummies(combined['Ticket'],prefix='Ticket')\n",
    "    combined = pd.concat([combined, tickets_dummies],axis=1)\n",
    "    combined.drop('Ticket',inplace=True,axis=1)\n",
    "\n",
    "process_ticket()"
   ]
  },
  {
   "cell_type": "code",
   "execution_count": 35,
   "metadata": {
    "collapsed": true,
    "nbpresent": {
     "id": "a895050c-740c-4d94-9a13-1869085f907b"
    }
   },
   "outputs": [],
   "source": [
    "#Creamos una variable nueva suponiendo que las familias grandes se agrupon y tienen mayor % de salvarse\n",
    "def process_family():\n",
    "    \n",
    "    global combined\n",
    "    # introducing a new feature : the size of families (including the passenger)\n",
    "    combined['FamilySize'] = combined['Parch'] + combined['SibSp'] + 1\n",
    "    \n",
    "    # introducing other features based on the family size\n",
    "    combined['Singleton'] = combined['FamilySize'].map(lambda s : 1 if s == 1 else 0)\n",
    "    combined['SmallFamily'] = combined['FamilySize'].map(lambda s : 1 if 2<=s<=4 else 0)\n",
    "    combined['LargeFamily'] = combined['FamilySize'].map(lambda s : 1 if 5<=s else 0)\n",
    "\n",
    "process_family()"
   ]
  },
  {
   "cell_type": "code",
   "execution_count": 36,
   "metadata": {
    "nbpresent": {
     "id": "b953d6d2-2c9c-45e4-92c6-04551445411a"
    }
   },
   "outputs": [
    {
     "data": {
      "text/plain": [
       "(1309, 68)"
      ]
     },
     "execution_count": 36,
     "metadata": {},
     "output_type": "execute_result"
    }
   ],
   "source": [
    "combined.shape # Hemos pasado de 12 features a 68"
   ]
  },
  {
   "cell_type": "code",
   "execution_count": 37,
   "metadata": {
    "nbpresent": {
     "id": "a339fa91-d372-4b83-becc-48af7d265ff6"
    }
   },
   "outputs": [
    {
     "data": {
      "text/html": [
       "<div>\n",
       "<style>\n",
       "    .dataframe thead tr:only-child th {\n",
       "        text-align: right;\n",
       "    }\n",
       "\n",
       "    .dataframe thead th {\n",
       "        text-align: left;\n",
       "    }\n",
       "\n",
       "    .dataframe tbody tr th {\n",
       "        vertical-align: top;\n",
       "    }\n",
       "</style>\n",
       "<table border=\"1\" class=\"dataframe\">\n",
       "  <thead>\n",
       "    <tr style=\"text-align: right;\">\n",
       "      <th></th>\n",
       "      <th>PassengerId</th>\n",
       "      <th>Sex</th>\n",
       "      <th>Age</th>\n",
       "      <th>SibSp</th>\n",
       "      <th>Parch</th>\n",
       "      <th>Fare</th>\n",
       "      <th>Title_Master</th>\n",
       "      <th>Title_Miss</th>\n",
       "      <th>Title_Mr</th>\n",
       "      <th>Title_Mrs</th>\n",
       "      <th>Title_Officer</th>\n",
       "      <th>Title_Royalty</th>\n",
       "      <th>Embarked_C</th>\n",
       "      <th>Embarked_Q</th>\n",
       "      <th>Embarked_S</th>\n",
       "      <th>Cabin_A</th>\n",
       "      <th>Cabin_B</th>\n",
       "      <th>Cabin_C</th>\n",
       "      <th>Cabin_D</th>\n",
       "      <th>Cabin_E</th>\n",
       "      <th>Cabin_F</th>\n",
       "      <th>Cabin_G</th>\n",
       "      <th>Cabin_T</th>\n",
       "      <th>Cabin_U</th>\n",
       "      <th>Pclass_1</th>\n",
       "      <th>Pclass_2</th>\n",
       "      <th>Pclass_3</th>\n",
       "      <th>Ticket_A</th>\n",
       "      <th>Ticket_A4</th>\n",
       "      <th>Ticket_A5</th>\n",
       "      <th>Ticket_AQ3</th>\n",
       "      <th>Ticket_AQ4</th>\n",
       "      <th>Ticket_AS</th>\n",
       "      <th>Ticket_C</th>\n",
       "      <th>Ticket_CA</th>\n",
       "      <th>Ticket_CASOTON</th>\n",
       "      <th>Ticket_FC</th>\n",
       "      <th>Ticket_FCC</th>\n",
       "      <th>Ticket_Fa</th>\n",
       "      <th>Ticket_LINE</th>\n",
       "      <th>Ticket_LP</th>\n",
       "      <th>Ticket_PC</th>\n",
       "      <th>Ticket_PP</th>\n",
       "      <th>Ticket_PPP</th>\n",
       "      <th>Ticket_SC</th>\n",
       "      <th>Ticket_SCA3</th>\n",
       "      <th>Ticket_SCA4</th>\n",
       "      <th>Ticket_SCAH</th>\n",
       "      <th>Ticket_SCOW</th>\n",
       "      <th>Ticket_SCPARIS</th>\n",
       "      <th>Ticket_SCParis</th>\n",
       "      <th>Ticket_SOC</th>\n",
       "      <th>Ticket_SOP</th>\n",
       "      <th>Ticket_SOPP</th>\n",
       "      <th>Ticket_SOTONO2</th>\n",
       "      <th>Ticket_SOTONOQ</th>\n",
       "      <th>Ticket_SP</th>\n",
       "      <th>Ticket_STONO</th>\n",
       "      <th>Ticket_STONO2</th>\n",
       "      <th>Ticket_STONOQ</th>\n",
       "      <th>Ticket_SWPP</th>\n",
       "      <th>Ticket_WC</th>\n",
       "      <th>Ticket_WEP</th>\n",
       "      <th>Ticket_XXX</th>\n",
       "      <th>FamilySize</th>\n",
       "      <th>Singleton</th>\n",
       "      <th>SmallFamily</th>\n",
       "      <th>LargeFamily</th>\n",
       "    </tr>\n",
       "  </thead>\n",
       "  <tbody>\n",
       "    <tr>\n",
       "      <th>0</th>\n",
       "      <td>1</td>\n",
       "      <td>1</td>\n",
       "      <td>22.0</td>\n",
       "      <td>1</td>\n",
       "      <td>0</td>\n",
       "      <td>7.2500</td>\n",
       "      <td>0</td>\n",
       "      <td>0</td>\n",
       "      <td>1</td>\n",
       "      <td>0</td>\n",
       "      <td>0</td>\n",
       "      <td>0</td>\n",
       "      <td>0</td>\n",
       "      <td>0</td>\n",
       "      <td>1</td>\n",
       "      <td>0</td>\n",
       "      <td>0</td>\n",
       "      <td>0</td>\n",
       "      <td>0</td>\n",
       "      <td>0</td>\n",
       "      <td>0</td>\n",
       "      <td>0</td>\n",
       "      <td>0</td>\n",
       "      <td>1</td>\n",
       "      <td>0</td>\n",
       "      <td>0</td>\n",
       "      <td>1</td>\n",
       "      <td>0</td>\n",
       "      <td>0</td>\n",
       "      <td>1</td>\n",
       "      <td>0</td>\n",
       "      <td>0</td>\n",
       "      <td>0</td>\n",
       "      <td>0</td>\n",
       "      <td>0</td>\n",
       "      <td>0</td>\n",
       "      <td>0</td>\n",
       "      <td>0</td>\n",
       "      <td>0</td>\n",
       "      <td>0</td>\n",
       "      <td>0</td>\n",
       "      <td>0</td>\n",
       "      <td>0</td>\n",
       "      <td>0</td>\n",
       "      <td>0</td>\n",
       "      <td>0</td>\n",
       "      <td>0</td>\n",
       "      <td>0</td>\n",
       "      <td>0</td>\n",
       "      <td>0</td>\n",
       "      <td>0</td>\n",
       "      <td>0</td>\n",
       "      <td>0</td>\n",
       "      <td>0</td>\n",
       "      <td>0</td>\n",
       "      <td>0</td>\n",
       "      <td>0</td>\n",
       "      <td>0</td>\n",
       "      <td>0</td>\n",
       "      <td>0</td>\n",
       "      <td>0</td>\n",
       "      <td>0</td>\n",
       "      <td>0</td>\n",
       "      <td>0</td>\n",
       "      <td>2</td>\n",
       "      <td>0</td>\n",
       "      <td>1</td>\n",
       "      <td>0</td>\n",
       "    </tr>\n",
       "    <tr>\n",
       "      <th>1</th>\n",
       "      <td>2</td>\n",
       "      <td>0</td>\n",
       "      <td>38.0</td>\n",
       "      <td>1</td>\n",
       "      <td>0</td>\n",
       "      <td>71.2833</td>\n",
       "      <td>0</td>\n",
       "      <td>0</td>\n",
       "      <td>0</td>\n",
       "      <td>1</td>\n",
       "      <td>0</td>\n",
       "      <td>0</td>\n",
       "      <td>1</td>\n",
       "      <td>0</td>\n",
       "      <td>0</td>\n",
       "      <td>0</td>\n",
       "      <td>0</td>\n",
       "      <td>1</td>\n",
       "      <td>0</td>\n",
       "      <td>0</td>\n",
       "      <td>0</td>\n",
       "      <td>0</td>\n",
       "      <td>0</td>\n",
       "      <td>0</td>\n",
       "      <td>1</td>\n",
       "      <td>0</td>\n",
       "      <td>0</td>\n",
       "      <td>0</td>\n",
       "      <td>0</td>\n",
       "      <td>0</td>\n",
       "      <td>0</td>\n",
       "      <td>0</td>\n",
       "      <td>0</td>\n",
       "      <td>0</td>\n",
       "      <td>0</td>\n",
       "      <td>0</td>\n",
       "      <td>0</td>\n",
       "      <td>0</td>\n",
       "      <td>0</td>\n",
       "      <td>0</td>\n",
       "      <td>0</td>\n",
       "      <td>1</td>\n",
       "      <td>0</td>\n",
       "      <td>0</td>\n",
       "      <td>0</td>\n",
       "      <td>0</td>\n",
       "      <td>0</td>\n",
       "      <td>0</td>\n",
       "      <td>0</td>\n",
       "      <td>0</td>\n",
       "      <td>0</td>\n",
       "      <td>0</td>\n",
       "      <td>0</td>\n",
       "      <td>0</td>\n",
       "      <td>0</td>\n",
       "      <td>0</td>\n",
       "      <td>0</td>\n",
       "      <td>0</td>\n",
       "      <td>0</td>\n",
       "      <td>0</td>\n",
       "      <td>0</td>\n",
       "      <td>0</td>\n",
       "      <td>0</td>\n",
       "      <td>0</td>\n",
       "      <td>2</td>\n",
       "      <td>0</td>\n",
       "      <td>1</td>\n",
       "      <td>0</td>\n",
       "    </tr>\n",
       "    <tr>\n",
       "      <th>2</th>\n",
       "      <td>3</td>\n",
       "      <td>0</td>\n",
       "      <td>26.0</td>\n",
       "      <td>0</td>\n",
       "      <td>0</td>\n",
       "      <td>7.9250</td>\n",
       "      <td>0</td>\n",
       "      <td>1</td>\n",
       "      <td>0</td>\n",
       "      <td>0</td>\n",
       "      <td>0</td>\n",
       "      <td>0</td>\n",
       "      <td>0</td>\n",
       "      <td>0</td>\n",
       "      <td>1</td>\n",
       "      <td>0</td>\n",
       "      <td>0</td>\n",
       "      <td>0</td>\n",
       "      <td>0</td>\n",
       "      <td>0</td>\n",
       "      <td>0</td>\n",
       "      <td>0</td>\n",
       "      <td>0</td>\n",
       "      <td>1</td>\n",
       "      <td>0</td>\n",
       "      <td>0</td>\n",
       "      <td>1</td>\n",
       "      <td>0</td>\n",
       "      <td>0</td>\n",
       "      <td>0</td>\n",
       "      <td>0</td>\n",
       "      <td>0</td>\n",
       "      <td>0</td>\n",
       "      <td>0</td>\n",
       "      <td>0</td>\n",
       "      <td>0</td>\n",
       "      <td>0</td>\n",
       "      <td>0</td>\n",
       "      <td>0</td>\n",
       "      <td>0</td>\n",
       "      <td>0</td>\n",
       "      <td>0</td>\n",
       "      <td>0</td>\n",
       "      <td>0</td>\n",
       "      <td>0</td>\n",
       "      <td>0</td>\n",
       "      <td>0</td>\n",
       "      <td>0</td>\n",
       "      <td>0</td>\n",
       "      <td>0</td>\n",
       "      <td>0</td>\n",
       "      <td>0</td>\n",
       "      <td>0</td>\n",
       "      <td>0</td>\n",
       "      <td>0</td>\n",
       "      <td>0</td>\n",
       "      <td>0</td>\n",
       "      <td>0</td>\n",
       "      <td>1</td>\n",
       "      <td>0</td>\n",
       "      <td>0</td>\n",
       "      <td>0</td>\n",
       "      <td>0</td>\n",
       "      <td>0</td>\n",
       "      <td>1</td>\n",
       "      <td>1</td>\n",
       "      <td>0</td>\n",
       "      <td>0</td>\n",
       "    </tr>\n",
       "    <tr>\n",
       "      <th>3</th>\n",
       "      <td>4</td>\n",
       "      <td>0</td>\n",
       "      <td>35.0</td>\n",
       "      <td>1</td>\n",
       "      <td>0</td>\n",
       "      <td>53.1000</td>\n",
       "      <td>0</td>\n",
       "      <td>0</td>\n",
       "      <td>0</td>\n",
       "      <td>1</td>\n",
       "      <td>0</td>\n",
       "      <td>0</td>\n",
       "      <td>0</td>\n",
       "      <td>0</td>\n",
       "      <td>1</td>\n",
       "      <td>0</td>\n",
       "      <td>0</td>\n",
       "      <td>1</td>\n",
       "      <td>0</td>\n",
       "      <td>0</td>\n",
       "      <td>0</td>\n",
       "      <td>0</td>\n",
       "      <td>0</td>\n",
       "      <td>0</td>\n",
       "      <td>1</td>\n",
       "      <td>0</td>\n",
       "      <td>0</td>\n",
       "      <td>0</td>\n",
       "      <td>0</td>\n",
       "      <td>0</td>\n",
       "      <td>0</td>\n",
       "      <td>0</td>\n",
       "      <td>0</td>\n",
       "      <td>0</td>\n",
       "      <td>0</td>\n",
       "      <td>0</td>\n",
       "      <td>0</td>\n",
       "      <td>0</td>\n",
       "      <td>0</td>\n",
       "      <td>0</td>\n",
       "      <td>0</td>\n",
       "      <td>0</td>\n",
       "      <td>0</td>\n",
       "      <td>0</td>\n",
       "      <td>0</td>\n",
       "      <td>0</td>\n",
       "      <td>0</td>\n",
       "      <td>0</td>\n",
       "      <td>0</td>\n",
       "      <td>0</td>\n",
       "      <td>0</td>\n",
       "      <td>0</td>\n",
       "      <td>0</td>\n",
       "      <td>0</td>\n",
       "      <td>0</td>\n",
       "      <td>0</td>\n",
       "      <td>0</td>\n",
       "      <td>0</td>\n",
       "      <td>0</td>\n",
       "      <td>0</td>\n",
       "      <td>0</td>\n",
       "      <td>0</td>\n",
       "      <td>0</td>\n",
       "      <td>1</td>\n",
       "      <td>2</td>\n",
       "      <td>0</td>\n",
       "      <td>1</td>\n",
       "      <td>0</td>\n",
       "    </tr>\n",
       "    <tr>\n",
       "      <th>4</th>\n",
       "      <td>5</td>\n",
       "      <td>1</td>\n",
       "      <td>35.0</td>\n",
       "      <td>0</td>\n",
       "      <td>0</td>\n",
       "      <td>8.0500</td>\n",
       "      <td>0</td>\n",
       "      <td>0</td>\n",
       "      <td>1</td>\n",
       "      <td>0</td>\n",
       "      <td>0</td>\n",
       "      <td>0</td>\n",
       "      <td>0</td>\n",
       "      <td>0</td>\n",
       "      <td>1</td>\n",
       "      <td>0</td>\n",
       "      <td>0</td>\n",
       "      <td>0</td>\n",
       "      <td>0</td>\n",
       "      <td>0</td>\n",
       "      <td>0</td>\n",
       "      <td>0</td>\n",
       "      <td>0</td>\n",
       "      <td>1</td>\n",
       "      <td>0</td>\n",
       "      <td>0</td>\n",
       "      <td>1</td>\n",
       "      <td>0</td>\n",
       "      <td>0</td>\n",
       "      <td>0</td>\n",
       "      <td>0</td>\n",
       "      <td>0</td>\n",
       "      <td>0</td>\n",
       "      <td>0</td>\n",
       "      <td>0</td>\n",
       "      <td>0</td>\n",
       "      <td>0</td>\n",
       "      <td>0</td>\n",
       "      <td>0</td>\n",
       "      <td>0</td>\n",
       "      <td>0</td>\n",
       "      <td>0</td>\n",
       "      <td>0</td>\n",
       "      <td>0</td>\n",
       "      <td>0</td>\n",
       "      <td>0</td>\n",
       "      <td>0</td>\n",
       "      <td>0</td>\n",
       "      <td>0</td>\n",
       "      <td>0</td>\n",
       "      <td>0</td>\n",
       "      <td>0</td>\n",
       "      <td>0</td>\n",
       "      <td>0</td>\n",
       "      <td>0</td>\n",
       "      <td>0</td>\n",
       "      <td>0</td>\n",
       "      <td>0</td>\n",
       "      <td>0</td>\n",
       "      <td>0</td>\n",
       "      <td>0</td>\n",
       "      <td>0</td>\n",
       "      <td>0</td>\n",
       "      <td>1</td>\n",
       "      <td>1</td>\n",
       "      <td>1</td>\n",
       "      <td>0</td>\n",
       "      <td>0</td>\n",
       "    </tr>\n",
       "  </tbody>\n",
       "</table>\n",
       "</div>"
      ],
      "text/plain": [
       "   PassengerId  Sex   Age  SibSp  Parch     Fare  Title_Master  Title_Miss  \\\n",
       "0            1    1  22.0      1      0   7.2500             0           0   \n",
       "1            2    0  38.0      1      0  71.2833             0           0   \n",
       "2            3    0  26.0      0      0   7.9250             0           1   \n",
       "3            4    0  35.0      1      0  53.1000             0           0   \n",
       "4            5    1  35.0      0      0   8.0500             0           0   \n",
       "\n",
       "   Title_Mr  Title_Mrs  Title_Officer  Title_Royalty  Embarked_C  Embarked_Q  \\\n",
       "0         1          0              0              0           0           0   \n",
       "1         0          1              0              0           1           0   \n",
       "2         0          0              0              0           0           0   \n",
       "3         0          1              0              0           0           0   \n",
       "4         1          0              0              0           0           0   \n",
       "\n",
       "   Embarked_S  Cabin_A  Cabin_B  Cabin_C  Cabin_D  Cabin_E  Cabin_F  Cabin_G  \\\n",
       "0           1        0        0        0        0        0        0        0   \n",
       "1           0        0        0        1        0        0        0        0   \n",
       "2           1        0        0        0        0        0        0        0   \n",
       "3           1        0        0        1        0        0        0        0   \n",
       "4           1        0        0        0        0        0        0        0   \n",
       "\n",
       "   Cabin_T  Cabin_U  Pclass_1  Pclass_2  Pclass_3  Ticket_A  Ticket_A4  \\\n",
       "0        0        1         0         0         1         0          0   \n",
       "1        0        0         1         0         0         0          0   \n",
       "2        0        1         0         0         1         0          0   \n",
       "3        0        0         1         0         0         0          0   \n",
       "4        0        1         0         0         1         0          0   \n",
       "\n",
       "   Ticket_A5  Ticket_AQ3  Ticket_AQ4  Ticket_AS  Ticket_C  Ticket_CA  \\\n",
       "0          1           0           0          0         0          0   \n",
       "1          0           0           0          0         0          0   \n",
       "2          0           0           0          0         0          0   \n",
       "3          0           0           0          0         0          0   \n",
       "4          0           0           0          0         0          0   \n",
       "\n",
       "   Ticket_CASOTON  Ticket_FC  Ticket_FCC  Ticket_Fa  Ticket_LINE  Ticket_LP  \\\n",
       "0               0          0           0          0            0          0   \n",
       "1               0          0           0          0            0          0   \n",
       "2               0          0           0          0            0          0   \n",
       "3               0          0           0          0            0          0   \n",
       "4               0          0           0          0            0          0   \n",
       "\n",
       "   Ticket_PC  Ticket_PP  Ticket_PPP  Ticket_SC  Ticket_SCA3  Ticket_SCA4  \\\n",
       "0          0          0           0          0            0            0   \n",
       "1          1          0           0          0            0            0   \n",
       "2          0          0           0          0            0            0   \n",
       "3          0          0           0          0            0            0   \n",
       "4          0          0           0          0            0            0   \n",
       "\n",
       "   Ticket_SCAH  Ticket_SCOW  Ticket_SCPARIS  Ticket_SCParis  Ticket_SOC  \\\n",
       "0            0            0               0               0           0   \n",
       "1            0            0               0               0           0   \n",
       "2            0            0               0               0           0   \n",
       "3            0            0               0               0           0   \n",
       "4            0            0               0               0           0   \n",
       "\n",
       "   Ticket_SOP  Ticket_SOPP  Ticket_SOTONO2  Ticket_SOTONOQ  Ticket_SP  \\\n",
       "0           0            0               0               0          0   \n",
       "1           0            0               0               0          0   \n",
       "2           0            0               0               0          0   \n",
       "3           0            0               0               0          0   \n",
       "4           0            0               0               0          0   \n",
       "\n",
       "   Ticket_STONO  Ticket_STONO2  Ticket_STONOQ  Ticket_SWPP  Ticket_WC  \\\n",
       "0             0              0              0            0          0   \n",
       "1             0              0              0            0          0   \n",
       "2             0              1              0            0          0   \n",
       "3             0              0              0            0          0   \n",
       "4             0              0              0            0          0   \n",
       "\n",
       "   Ticket_WEP  Ticket_XXX  FamilySize  Singleton  SmallFamily  LargeFamily  \n",
       "0           0           0           2          0            1            0  \n",
       "1           0           0           2          0            1            0  \n",
       "2           0           0           1          1            0            0  \n",
       "3           0           1           2          0            1            0  \n",
       "4           0           1           1          1            0            0  "
      ]
     },
     "execution_count": 37,
     "metadata": {},
     "output_type": "execute_result"
    }
   ],
   "source": [
    "combined.head()"
   ]
  },
  {
   "cell_type": "code",
   "execution_count": 38,
   "metadata": {
    "collapsed": true,
    "nbpresent": {
     "id": "fe29f47c-99bc-4990-a322-354da051a729"
    }
   },
   "outputs": [],
   "source": [
    "# Como las columnas o features tienen distintos rangos, los normalizamos a entre 0 y 1, excepto PassengerID que kaggle lo pide asi\n",
    "def scale_all_features():\n",
    "    \n",
    "    global combined\n",
    "    \n",
    "    features = list(combined.columns)\n",
    "    features.remove('PassengerId')\n",
    "    combined[features] = combined[features].apply(lambda x: x/x.max(), axis=0)\n",
    "    \n",
    "scale_all_features()"
   ]
  },
  {
   "cell_type": "code",
   "execution_count": 39,
   "metadata": {
    "nbpresent": {
     "id": "8665f022-149c-4fb5-8865-e2560d05e579"
    }
   },
   "outputs": [
    {
     "data": {
      "text/html": [
       "<div>\n",
       "<style>\n",
       "    .dataframe thead tr:only-child th {\n",
       "        text-align: right;\n",
       "    }\n",
       "\n",
       "    .dataframe thead th {\n",
       "        text-align: left;\n",
       "    }\n",
       "\n",
       "    .dataframe tbody tr th {\n",
       "        vertical-align: top;\n",
       "    }\n",
       "</style>\n",
       "<table border=\"1\" class=\"dataframe\">\n",
       "  <thead>\n",
       "    <tr style=\"text-align: right;\">\n",
       "      <th></th>\n",
       "      <th>PassengerId</th>\n",
       "      <th>Sex</th>\n",
       "      <th>Age</th>\n",
       "      <th>SibSp</th>\n",
       "      <th>Parch</th>\n",
       "      <th>Fare</th>\n",
       "      <th>Title_Master</th>\n",
       "      <th>Title_Miss</th>\n",
       "      <th>Title_Mr</th>\n",
       "      <th>Title_Mrs</th>\n",
       "      <th>Title_Officer</th>\n",
       "      <th>Title_Royalty</th>\n",
       "      <th>Embarked_C</th>\n",
       "      <th>Embarked_Q</th>\n",
       "      <th>Embarked_S</th>\n",
       "      <th>Cabin_A</th>\n",
       "      <th>Cabin_B</th>\n",
       "      <th>Cabin_C</th>\n",
       "      <th>Cabin_D</th>\n",
       "      <th>Cabin_E</th>\n",
       "      <th>Cabin_F</th>\n",
       "      <th>Cabin_G</th>\n",
       "      <th>Cabin_T</th>\n",
       "      <th>Cabin_U</th>\n",
       "      <th>Pclass_1</th>\n",
       "      <th>Pclass_2</th>\n",
       "      <th>Pclass_3</th>\n",
       "      <th>Ticket_A</th>\n",
       "      <th>Ticket_A4</th>\n",
       "      <th>Ticket_A5</th>\n",
       "      <th>Ticket_AQ3</th>\n",
       "      <th>Ticket_AQ4</th>\n",
       "      <th>Ticket_AS</th>\n",
       "      <th>Ticket_C</th>\n",
       "      <th>Ticket_CA</th>\n",
       "      <th>Ticket_CASOTON</th>\n",
       "      <th>Ticket_FC</th>\n",
       "      <th>Ticket_FCC</th>\n",
       "      <th>Ticket_Fa</th>\n",
       "      <th>Ticket_LINE</th>\n",
       "      <th>Ticket_LP</th>\n",
       "      <th>Ticket_PC</th>\n",
       "      <th>Ticket_PP</th>\n",
       "      <th>Ticket_PPP</th>\n",
       "      <th>Ticket_SC</th>\n",
       "      <th>Ticket_SCA3</th>\n",
       "      <th>Ticket_SCA4</th>\n",
       "      <th>Ticket_SCAH</th>\n",
       "      <th>Ticket_SCOW</th>\n",
       "      <th>Ticket_SCPARIS</th>\n",
       "      <th>Ticket_SCParis</th>\n",
       "      <th>Ticket_SOC</th>\n",
       "      <th>Ticket_SOP</th>\n",
       "      <th>Ticket_SOPP</th>\n",
       "      <th>Ticket_SOTONO2</th>\n",
       "      <th>Ticket_SOTONOQ</th>\n",
       "      <th>Ticket_SP</th>\n",
       "      <th>Ticket_STONO</th>\n",
       "      <th>Ticket_STONO2</th>\n",
       "      <th>Ticket_STONOQ</th>\n",
       "      <th>Ticket_SWPP</th>\n",
       "      <th>Ticket_WC</th>\n",
       "      <th>Ticket_WEP</th>\n",
       "      <th>Ticket_XXX</th>\n",
       "      <th>FamilySize</th>\n",
       "      <th>Singleton</th>\n",
       "      <th>SmallFamily</th>\n",
       "      <th>LargeFamily</th>\n",
       "    </tr>\n",
       "  </thead>\n",
       "  <tbody>\n",
       "    <tr>\n",
       "      <th>0</th>\n",
       "      <td>1</td>\n",
       "      <td>1.0</td>\n",
       "      <td>0.2750</td>\n",
       "      <td>0.125</td>\n",
       "      <td>0.0</td>\n",
       "      <td>0.014151</td>\n",
       "      <td>0.0</td>\n",
       "      <td>0.0</td>\n",
       "      <td>1.0</td>\n",
       "      <td>0.0</td>\n",
       "      <td>0.0</td>\n",
       "      <td>0.0</td>\n",
       "      <td>0.0</td>\n",
       "      <td>0.0</td>\n",
       "      <td>1.0</td>\n",
       "      <td>0.0</td>\n",
       "      <td>0.0</td>\n",
       "      <td>0.0</td>\n",
       "      <td>0.0</td>\n",
       "      <td>0.0</td>\n",
       "      <td>0.0</td>\n",
       "      <td>0.0</td>\n",
       "      <td>0.0</td>\n",
       "      <td>1.0</td>\n",
       "      <td>0.0</td>\n",
       "      <td>0.0</td>\n",
       "      <td>1.0</td>\n",
       "      <td>0.0</td>\n",
       "      <td>0.0</td>\n",
       "      <td>1.0</td>\n",
       "      <td>0.0</td>\n",
       "      <td>0.0</td>\n",
       "      <td>0.0</td>\n",
       "      <td>0.0</td>\n",
       "      <td>0.0</td>\n",
       "      <td>0.0</td>\n",
       "      <td>0.0</td>\n",
       "      <td>0.0</td>\n",
       "      <td>0.0</td>\n",
       "      <td>0.0</td>\n",
       "      <td>0.0</td>\n",
       "      <td>0.0</td>\n",
       "      <td>0.0</td>\n",
       "      <td>0.0</td>\n",
       "      <td>0.0</td>\n",
       "      <td>0.0</td>\n",
       "      <td>0.0</td>\n",
       "      <td>0.0</td>\n",
       "      <td>0.0</td>\n",
       "      <td>0.0</td>\n",
       "      <td>0.0</td>\n",
       "      <td>0.0</td>\n",
       "      <td>0.0</td>\n",
       "      <td>0.0</td>\n",
       "      <td>0.0</td>\n",
       "      <td>0.0</td>\n",
       "      <td>0.0</td>\n",
       "      <td>0.0</td>\n",
       "      <td>0.0</td>\n",
       "      <td>0.0</td>\n",
       "      <td>0.0</td>\n",
       "      <td>0.0</td>\n",
       "      <td>0.0</td>\n",
       "      <td>0.0</td>\n",
       "      <td>0.181818</td>\n",
       "      <td>0.0</td>\n",
       "      <td>1.0</td>\n",
       "      <td>0.0</td>\n",
       "    </tr>\n",
       "    <tr>\n",
       "      <th>1</th>\n",
       "      <td>2</td>\n",
       "      <td>0.0</td>\n",
       "      <td>0.4750</td>\n",
       "      <td>0.125</td>\n",
       "      <td>0.0</td>\n",
       "      <td>0.139136</td>\n",
       "      <td>0.0</td>\n",
       "      <td>0.0</td>\n",
       "      <td>0.0</td>\n",
       "      <td>1.0</td>\n",
       "      <td>0.0</td>\n",
       "      <td>0.0</td>\n",
       "      <td>1.0</td>\n",
       "      <td>0.0</td>\n",
       "      <td>0.0</td>\n",
       "      <td>0.0</td>\n",
       "      <td>0.0</td>\n",
       "      <td>1.0</td>\n",
       "      <td>0.0</td>\n",
       "      <td>0.0</td>\n",
       "      <td>0.0</td>\n",
       "      <td>0.0</td>\n",
       "      <td>0.0</td>\n",
       "      <td>0.0</td>\n",
       "      <td>1.0</td>\n",
       "      <td>0.0</td>\n",
       "      <td>0.0</td>\n",
       "      <td>0.0</td>\n",
       "      <td>0.0</td>\n",
       "      <td>0.0</td>\n",
       "      <td>0.0</td>\n",
       "      <td>0.0</td>\n",
       "      <td>0.0</td>\n",
       "      <td>0.0</td>\n",
       "      <td>0.0</td>\n",
       "      <td>0.0</td>\n",
       "      <td>0.0</td>\n",
       "      <td>0.0</td>\n",
       "      <td>0.0</td>\n",
       "      <td>0.0</td>\n",
       "      <td>0.0</td>\n",
       "      <td>1.0</td>\n",
       "      <td>0.0</td>\n",
       "      <td>0.0</td>\n",
       "      <td>0.0</td>\n",
       "      <td>0.0</td>\n",
       "      <td>0.0</td>\n",
       "      <td>0.0</td>\n",
       "      <td>0.0</td>\n",
       "      <td>0.0</td>\n",
       "      <td>0.0</td>\n",
       "      <td>0.0</td>\n",
       "      <td>0.0</td>\n",
       "      <td>0.0</td>\n",
       "      <td>0.0</td>\n",
       "      <td>0.0</td>\n",
       "      <td>0.0</td>\n",
       "      <td>0.0</td>\n",
       "      <td>0.0</td>\n",
       "      <td>0.0</td>\n",
       "      <td>0.0</td>\n",
       "      <td>0.0</td>\n",
       "      <td>0.0</td>\n",
       "      <td>0.0</td>\n",
       "      <td>0.181818</td>\n",
       "      <td>0.0</td>\n",
       "      <td>1.0</td>\n",
       "      <td>0.0</td>\n",
       "    </tr>\n",
       "    <tr>\n",
       "      <th>2</th>\n",
       "      <td>3</td>\n",
       "      <td>0.0</td>\n",
       "      <td>0.3250</td>\n",
       "      <td>0.000</td>\n",
       "      <td>0.0</td>\n",
       "      <td>0.015469</td>\n",
       "      <td>0.0</td>\n",
       "      <td>1.0</td>\n",
       "      <td>0.0</td>\n",
       "      <td>0.0</td>\n",
       "      <td>0.0</td>\n",
       "      <td>0.0</td>\n",
       "      <td>0.0</td>\n",
       "      <td>0.0</td>\n",
       "      <td>1.0</td>\n",
       "      <td>0.0</td>\n",
       "      <td>0.0</td>\n",
       "      <td>0.0</td>\n",
       "      <td>0.0</td>\n",
       "      <td>0.0</td>\n",
       "      <td>0.0</td>\n",
       "      <td>0.0</td>\n",
       "      <td>0.0</td>\n",
       "      <td>1.0</td>\n",
       "      <td>0.0</td>\n",
       "      <td>0.0</td>\n",
       "      <td>1.0</td>\n",
       "      <td>0.0</td>\n",
       "      <td>0.0</td>\n",
       "      <td>0.0</td>\n",
       "      <td>0.0</td>\n",
       "      <td>0.0</td>\n",
       "      <td>0.0</td>\n",
       "      <td>0.0</td>\n",
       "      <td>0.0</td>\n",
       "      <td>0.0</td>\n",
       "      <td>0.0</td>\n",
       "      <td>0.0</td>\n",
       "      <td>0.0</td>\n",
       "      <td>0.0</td>\n",
       "      <td>0.0</td>\n",
       "      <td>0.0</td>\n",
       "      <td>0.0</td>\n",
       "      <td>0.0</td>\n",
       "      <td>0.0</td>\n",
       "      <td>0.0</td>\n",
       "      <td>0.0</td>\n",
       "      <td>0.0</td>\n",
       "      <td>0.0</td>\n",
       "      <td>0.0</td>\n",
       "      <td>0.0</td>\n",
       "      <td>0.0</td>\n",
       "      <td>0.0</td>\n",
       "      <td>0.0</td>\n",
       "      <td>0.0</td>\n",
       "      <td>0.0</td>\n",
       "      <td>0.0</td>\n",
       "      <td>0.0</td>\n",
       "      <td>1.0</td>\n",
       "      <td>0.0</td>\n",
       "      <td>0.0</td>\n",
       "      <td>0.0</td>\n",
       "      <td>0.0</td>\n",
       "      <td>0.0</td>\n",
       "      <td>0.090909</td>\n",
       "      <td>1.0</td>\n",
       "      <td>0.0</td>\n",
       "      <td>0.0</td>\n",
       "    </tr>\n",
       "    <tr>\n",
       "      <th>3</th>\n",
       "      <td>4</td>\n",
       "      <td>0.0</td>\n",
       "      <td>0.4375</td>\n",
       "      <td>0.125</td>\n",
       "      <td>0.0</td>\n",
       "      <td>0.103644</td>\n",
       "      <td>0.0</td>\n",
       "      <td>0.0</td>\n",
       "      <td>0.0</td>\n",
       "      <td>1.0</td>\n",
       "      <td>0.0</td>\n",
       "      <td>0.0</td>\n",
       "      <td>0.0</td>\n",
       "      <td>0.0</td>\n",
       "      <td>1.0</td>\n",
       "      <td>0.0</td>\n",
       "      <td>0.0</td>\n",
       "      <td>1.0</td>\n",
       "      <td>0.0</td>\n",
       "      <td>0.0</td>\n",
       "      <td>0.0</td>\n",
       "      <td>0.0</td>\n",
       "      <td>0.0</td>\n",
       "      <td>0.0</td>\n",
       "      <td>1.0</td>\n",
       "      <td>0.0</td>\n",
       "      <td>0.0</td>\n",
       "      <td>0.0</td>\n",
       "      <td>0.0</td>\n",
       "      <td>0.0</td>\n",
       "      <td>0.0</td>\n",
       "      <td>0.0</td>\n",
       "      <td>0.0</td>\n",
       "      <td>0.0</td>\n",
       "      <td>0.0</td>\n",
       "      <td>0.0</td>\n",
       "      <td>0.0</td>\n",
       "      <td>0.0</td>\n",
       "      <td>0.0</td>\n",
       "      <td>0.0</td>\n",
       "      <td>0.0</td>\n",
       "      <td>0.0</td>\n",
       "      <td>0.0</td>\n",
       "      <td>0.0</td>\n",
       "      <td>0.0</td>\n",
       "      <td>0.0</td>\n",
       "      <td>0.0</td>\n",
       "      <td>0.0</td>\n",
       "      <td>0.0</td>\n",
       "      <td>0.0</td>\n",
       "      <td>0.0</td>\n",
       "      <td>0.0</td>\n",
       "      <td>0.0</td>\n",
       "      <td>0.0</td>\n",
       "      <td>0.0</td>\n",
       "      <td>0.0</td>\n",
       "      <td>0.0</td>\n",
       "      <td>0.0</td>\n",
       "      <td>0.0</td>\n",
       "      <td>0.0</td>\n",
       "      <td>0.0</td>\n",
       "      <td>0.0</td>\n",
       "      <td>0.0</td>\n",
       "      <td>1.0</td>\n",
       "      <td>0.181818</td>\n",
       "      <td>0.0</td>\n",
       "      <td>1.0</td>\n",
       "      <td>0.0</td>\n",
       "    </tr>\n",
       "    <tr>\n",
       "      <th>4</th>\n",
       "      <td>5</td>\n",
       "      <td>1.0</td>\n",
       "      <td>0.4375</td>\n",
       "      <td>0.000</td>\n",
       "      <td>0.0</td>\n",
       "      <td>0.015713</td>\n",
       "      <td>0.0</td>\n",
       "      <td>0.0</td>\n",
       "      <td>1.0</td>\n",
       "      <td>0.0</td>\n",
       "      <td>0.0</td>\n",
       "      <td>0.0</td>\n",
       "      <td>0.0</td>\n",
       "      <td>0.0</td>\n",
       "      <td>1.0</td>\n",
       "      <td>0.0</td>\n",
       "      <td>0.0</td>\n",
       "      <td>0.0</td>\n",
       "      <td>0.0</td>\n",
       "      <td>0.0</td>\n",
       "      <td>0.0</td>\n",
       "      <td>0.0</td>\n",
       "      <td>0.0</td>\n",
       "      <td>1.0</td>\n",
       "      <td>0.0</td>\n",
       "      <td>0.0</td>\n",
       "      <td>1.0</td>\n",
       "      <td>0.0</td>\n",
       "      <td>0.0</td>\n",
       "      <td>0.0</td>\n",
       "      <td>0.0</td>\n",
       "      <td>0.0</td>\n",
       "      <td>0.0</td>\n",
       "      <td>0.0</td>\n",
       "      <td>0.0</td>\n",
       "      <td>0.0</td>\n",
       "      <td>0.0</td>\n",
       "      <td>0.0</td>\n",
       "      <td>0.0</td>\n",
       "      <td>0.0</td>\n",
       "      <td>0.0</td>\n",
       "      <td>0.0</td>\n",
       "      <td>0.0</td>\n",
       "      <td>0.0</td>\n",
       "      <td>0.0</td>\n",
       "      <td>0.0</td>\n",
       "      <td>0.0</td>\n",
       "      <td>0.0</td>\n",
       "      <td>0.0</td>\n",
       "      <td>0.0</td>\n",
       "      <td>0.0</td>\n",
       "      <td>0.0</td>\n",
       "      <td>0.0</td>\n",
       "      <td>0.0</td>\n",
       "      <td>0.0</td>\n",
       "      <td>0.0</td>\n",
       "      <td>0.0</td>\n",
       "      <td>0.0</td>\n",
       "      <td>0.0</td>\n",
       "      <td>0.0</td>\n",
       "      <td>0.0</td>\n",
       "      <td>0.0</td>\n",
       "      <td>0.0</td>\n",
       "      <td>1.0</td>\n",
       "      <td>0.090909</td>\n",
       "      <td>1.0</td>\n",
       "      <td>0.0</td>\n",
       "      <td>0.0</td>\n",
       "    </tr>\n",
       "  </tbody>\n",
       "</table>\n",
       "</div>"
      ],
      "text/plain": [
       "   PassengerId  Sex     Age  SibSp  Parch      Fare  Title_Master  Title_Miss  \\\n",
       "0            1  1.0  0.2750  0.125    0.0  0.014151           0.0         0.0   \n",
       "1            2  0.0  0.4750  0.125    0.0  0.139136           0.0         0.0   \n",
       "2            3  0.0  0.3250  0.000    0.0  0.015469           0.0         1.0   \n",
       "3            4  0.0  0.4375  0.125    0.0  0.103644           0.0         0.0   \n",
       "4            5  1.0  0.4375  0.000    0.0  0.015713           0.0         0.0   \n",
       "\n",
       "   Title_Mr  Title_Mrs  Title_Officer  Title_Royalty  Embarked_C  Embarked_Q  \\\n",
       "0       1.0        0.0            0.0            0.0         0.0         0.0   \n",
       "1       0.0        1.0            0.0            0.0         1.0         0.0   \n",
       "2       0.0        0.0            0.0            0.0         0.0         0.0   \n",
       "3       0.0        1.0            0.0            0.0         0.0         0.0   \n",
       "4       1.0        0.0            0.0            0.0         0.0         0.0   \n",
       "\n",
       "   Embarked_S  Cabin_A  Cabin_B  Cabin_C  Cabin_D  Cabin_E  Cabin_F  Cabin_G  \\\n",
       "0         1.0      0.0      0.0      0.0      0.0      0.0      0.0      0.0   \n",
       "1         0.0      0.0      0.0      1.0      0.0      0.0      0.0      0.0   \n",
       "2         1.0      0.0      0.0      0.0      0.0      0.0      0.0      0.0   \n",
       "3         1.0      0.0      0.0      1.0      0.0      0.0      0.0      0.0   \n",
       "4         1.0      0.0      0.0      0.0      0.0      0.0      0.0      0.0   \n",
       "\n",
       "   Cabin_T  Cabin_U  Pclass_1  Pclass_2  Pclass_3  Ticket_A  Ticket_A4  \\\n",
       "0      0.0      1.0       0.0       0.0       1.0       0.0        0.0   \n",
       "1      0.0      0.0       1.0       0.0       0.0       0.0        0.0   \n",
       "2      0.0      1.0       0.0       0.0       1.0       0.0        0.0   \n",
       "3      0.0      0.0       1.0       0.0       0.0       0.0        0.0   \n",
       "4      0.0      1.0       0.0       0.0       1.0       0.0        0.0   \n",
       "\n",
       "   Ticket_A5  Ticket_AQ3  Ticket_AQ4  Ticket_AS  Ticket_C  Ticket_CA  \\\n",
       "0        1.0         0.0         0.0        0.0       0.0        0.0   \n",
       "1        0.0         0.0         0.0        0.0       0.0        0.0   \n",
       "2        0.0         0.0         0.0        0.0       0.0        0.0   \n",
       "3        0.0         0.0         0.0        0.0       0.0        0.0   \n",
       "4        0.0         0.0         0.0        0.0       0.0        0.0   \n",
       "\n",
       "   Ticket_CASOTON  Ticket_FC  Ticket_FCC  Ticket_Fa  Ticket_LINE  Ticket_LP  \\\n",
       "0             0.0        0.0         0.0        0.0          0.0        0.0   \n",
       "1             0.0        0.0         0.0        0.0          0.0        0.0   \n",
       "2             0.0        0.0         0.0        0.0          0.0        0.0   \n",
       "3             0.0        0.0         0.0        0.0          0.0        0.0   \n",
       "4             0.0        0.0         0.0        0.0          0.0        0.0   \n",
       "\n",
       "   Ticket_PC  Ticket_PP  Ticket_PPP  Ticket_SC  Ticket_SCA3  Ticket_SCA4  \\\n",
       "0        0.0        0.0         0.0        0.0          0.0          0.0   \n",
       "1        1.0        0.0         0.0        0.0          0.0          0.0   \n",
       "2        0.0        0.0         0.0        0.0          0.0          0.0   \n",
       "3        0.0        0.0         0.0        0.0          0.0          0.0   \n",
       "4        0.0        0.0         0.0        0.0          0.0          0.0   \n",
       "\n",
       "   Ticket_SCAH  Ticket_SCOW  Ticket_SCPARIS  Ticket_SCParis  Ticket_SOC  \\\n",
       "0          0.0          0.0             0.0             0.0         0.0   \n",
       "1          0.0          0.0             0.0             0.0         0.0   \n",
       "2          0.0          0.0             0.0             0.0         0.0   \n",
       "3          0.0          0.0             0.0             0.0         0.0   \n",
       "4          0.0          0.0             0.0             0.0         0.0   \n",
       "\n",
       "   Ticket_SOP  Ticket_SOPP  Ticket_SOTONO2  Ticket_SOTONOQ  Ticket_SP  \\\n",
       "0         0.0          0.0             0.0             0.0        0.0   \n",
       "1         0.0          0.0             0.0             0.0        0.0   \n",
       "2         0.0          0.0             0.0             0.0        0.0   \n",
       "3         0.0          0.0             0.0             0.0        0.0   \n",
       "4         0.0          0.0             0.0             0.0        0.0   \n",
       "\n",
       "   Ticket_STONO  Ticket_STONO2  Ticket_STONOQ  Ticket_SWPP  Ticket_WC  \\\n",
       "0           0.0            0.0            0.0          0.0        0.0   \n",
       "1           0.0            0.0            0.0          0.0        0.0   \n",
       "2           0.0            1.0            0.0          0.0        0.0   \n",
       "3           0.0            0.0            0.0          0.0        0.0   \n",
       "4           0.0            0.0            0.0          0.0        0.0   \n",
       "\n",
       "   Ticket_WEP  Ticket_XXX  FamilySize  Singleton  SmallFamily  LargeFamily  \n",
       "0         0.0         0.0    0.181818        0.0          1.0          0.0  \n",
       "1         0.0         0.0    0.181818        0.0          1.0          0.0  \n",
       "2         0.0         0.0    0.090909        1.0          0.0          0.0  \n",
       "3         0.0         1.0    0.181818        0.0          1.0          0.0  \n",
       "4         0.0         1.0    0.090909        1.0          0.0          0.0  "
      ]
     },
     "execution_count": 39,
     "metadata": {},
     "output_type": "execute_result"
    }
   ],
   "source": [
    "combined.head()"
   ]
  },
  {
   "cell_type": "markdown",
   "metadata": {
    "nbpresent": {
     "id": "45b23d11-b985-4409-b1e5-4c940e24525c"
    }
   },
   "source": [
    "# Parte 3. Modelado de los datos"
   ]
  },
  {
   "cell_type": "markdown",
   "metadata": {
    "nbpresent": {
     "id": "1ccfafc0-d82a-481c-af37-da7c5634136f"
    }
   },
   "source": [
    "Con todas las nuevas features generadas vamos a crear un modelo estadistico. Se puede pensar en este modelo como una caja negra en la que por un lado se introduce un pasajero y por el otro nos devuelve una papel diciendo si ha sobrevivido o no.  \n",
    "Hay gran cantidad de modelos para usar, como regresion logica, arboles de decision, arboles aleatorios o SVM.  \n",
    "Usaremos random forests o arboles aleatorios ya que suelen dar buenos resultados en las competiciones de kaggle."
   ]
  },
  {
   "cell_type": "markdown",
   "metadata": {
    "nbpresent": {
     "id": "ba6afe41-6d64-4c34-9e27-d7b125dca223"
    }
   },
   "source": [
    "Volviendo a nuestro problema tenemos que descomponer nuestro dataset en entrenamiento y testeo, usar el de entrenamiento para construir un modelo predictivo, evaluar este modelo con el dataset de entrenamiento, y por ultimo testear el modelo usando el dataset de testeo.   \n",
    "La parte de construir un modelo y evaluarlo sera un proceso iterativo hasta que tengamos una puntuacion que nos guste"
   ]
  },
  {
   "cell_type": "code",
   "execution_count": 40,
   "metadata": {
    "nbpresent": {
     "id": "ee2687dd-5264-485c-bba3-1f30d2b1bc2e"
    }
   },
   "outputs": [
    {
     "name": "stderr",
     "output_type": "stream",
     "text": [
      "/home/set92/anaconda3/envs/ml/lib/python3.6/site-packages/sklearn/cross_validation.py:44: DeprecationWarning: This module was deprecated in version 0.18 in favor of the model_selection module into which all the refactored classes and functions are moved. Also note that the interface of the new CV iterators are different from that of this module. This module will be removed in 0.20.\n",
      "  \"This module will be removed in 0.20.\", DeprecationWarning)\n",
      "/home/set92/anaconda3/envs/ml/lib/python3.6/site-packages/sklearn/grid_search.py:43: DeprecationWarning: This module was deprecated in version 0.18 in favor of the model_selection module into which all the refactored classes and functions are moved. This module will be removed in 0.20.\n",
      "  DeprecationWarning)\n"
     ]
    }
   ],
   "source": [
    "from sklearn.pipeline import make_pipeline\n",
    "from sklearn.ensemble import RandomForestClassifier\n",
    "from sklearn.ensemble.gradient_boosting import GradientBoostingClassifier\n",
    "from sklearn.feature_selection import SelectKBest\n",
    "from sklearn.cross_validation import StratifiedKFold\n",
    "from sklearn.grid_search import GridSearchCV\n",
    "from sklearn.cross_validation import cross_val_score"
   ]
  },
  {
   "cell_type": "code",
   "execution_count": 41,
   "metadata": {
    "nbpresent": {
     "id": "08973d72-5f07-46de-8225-7933aa333ae8"
    }
   },
   "outputs": [
    {
     "name": "stdout",
     "output_type": "stream",
     "text": [
      "0.18.2\n"
     ]
    }
   ],
   "source": [
    "import sklearn\n",
    "print(sklearn.__version__)"
   ]
  },
  {
   "cell_type": "code",
   "execution_count": 42,
   "metadata": {
    "collapsed": true,
    "nbpresent": {
     "id": "a6ecccf6-df04-4290-ac19-d1c828bf1225"
    }
   },
   "outputs": [],
   "source": [
    "# Para evaluar a nuestro modelo usaremos un 5-fold cross validation with the Accuracy metric.\n",
    "def compute_score(clf, X, y,scoring='accuracy'):\n",
    "    xval = cross_val_score(clf, X, y, cv = 5,scoring=scoring)\n",
    "    return np.mean(xval)"
   ]
  },
  {
   "cell_type": "code",
   "execution_count": 43,
   "metadata": {
    "collapsed": true,
    "nbpresent": {
     "id": "f7a5964e-ae7a-4ea9-95b0-4dd5c745f809"
    }
   },
   "outputs": [],
   "source": [
    "def recover_train_test_target():\n",
    "    global combined\n",
    "    \n",
    "    train0 = (ws.datasets['train-titanic.csv']).to_dataframe()\n",
    "    \n",
    "    targets = train0.Survived\n",
    "    train = combined.ix[0:890]\n",
    "    test = combined.ix[891:]\n",
    "    \n",
    "    return train,test,targets"
   ]
  },
  {
   "cell_type": "code",
   "execution_count": 44,
   "metadata": {
    "nbpresent": {
     "id": "5b657530-22e1-4fe2-83e6-51f07c4f8a70"
    }
   },
   "outputs": [
    {
     "name": "stderr",
     "output_type": "stream",
     "text": [
      "/home/set92/anaconda3/envs/ml/lib/python3.6/site-packages/ipykernel/__main__.py:7: DeprecationWarning: \n",
      ".ix is deprecated. Please use\n",
      ".loc for label based indexing or\n",
      ".iloc for positional indexing\n",
      "\n",
      "See the documentation here:\n",
      "http://pandas.pydata.org/pandas-docs/stable/indexing.html#deprecate_ix\n"
     ]
    }
   ],
   "source": [
    "train,test,targets = recover_train_test_target()"
   ]
  },
  {
   "cell_type": "markdown",
   "metadata": {
    "nbpresent": {
     "id": "cacdcd45-2808-432c-b5e6-7914f1b5cb87"
    }
   },
   "source": [
    "## Seleccion de caracteristicas\n",
    "Tenemos 68 caracteristicas, un numero bastante grande, en esta fase intentaremos reducir las dimensiones del dataset, quedandonos solo con aquellas caracteristicas o features que nos aporten mas datos para el resultado deseado. \n",
    "\n",
    "De esta manera conseguiremos reducir la redundancia de datos, acelerar el proceso de entrenamiento y reducir el overfitting o sobreajuste que se le llama cuando se intenta ajustar demasiado el modelo, pudiendo arrojar falsos resultados cuando se vayan introduciendo mas datos.\n",
    "\n",
    "<img src=\"https://upload.wikimedia.org/wikipedia/commons/1/19/Overfitting.svg\" width=\"200\">"
   ]
  },
  {
   "cell_type": "code",
   "execution_count": 45,
   "metadata": {
    "collapsed": true,
    "nbpresent": {
     "id": "543351ad-eef8-46fa-ad8a-28a0bd5bc72a"
    }
   },
   "outputs": [],
   "source": [
    "#Usaremos tree-based estimators para computar la importancia de las features\n",
    "from sklearn.ensemble import ExtraTreesClassifier\n",
    "from sklearn.feature_selection import SelectFromModel\n",
    "clf = ExtraTreesClassifier(n_estimators=200)\n",
    "clf = clf.fit(train, targets)"
   ]
  },
  {
   "cell_type": "code",
   "execution_count": 46,
   "metadata": {
    "collapsed": true,
    "nbpresent": {
     "id": "d833e2e5-29f2-4e83-866b-49f355dca995"
    }
   },
   "outputs": [],
   "source": [
    "features = pd.DataFrame()\n",
    "features['feature'] = train.columns\n",
    "features['importance'] = clf.feature_importances_"
   ]
  },
  {
   "cell_type": "code",
   "execution_count": 47,
   "metadata": {
    "nbpresent": {
     "id": "c383fceb-89e0-4bac-a89b-a2903ffc27a0"
    }
   },
   "outputs": [
    {
     "data": {
      "text/html": [
       "<div>\n",
       "<style>\n",
       "    .dataframe thead tr:only-child th {\n",
       "        text-align: right;\n",
       "    }\n",
       "\n",
       "    .dataframe thead th {\n",
       "        text-align: left;\n",
       "    }\n",
       "\n",
       "    .dataframe tbody tr th {\n",
       "        vertical-align: top;\n",
       "    }\n",
       "</style>\n",
       "<table border=\"1\" class=\"dataframe\">\n",
       "  <thead>\n",
       "    <tr style=\"text-align: right;\">\n",
       "      <th></th>\n",
       "      <th>feature</th>\n",
       "      <th>importance</th>\n",
       "    </tr>\n",
       "  </thead>\n",
       "  <tbody>\n",
       "    <tr>\n",
       "      <th>0</th>\n",
       "      <td>PassengerId</td>\n",
       "      <td>0.128693</td>\n",
       "    </tr>\n",
       "    <tr>\n",
       "      <th>2</th>\n",
       "      <td>Age</td>\n",
       "      <td>0.118302</td>\n",
       "    </tr>\n",
       "    <tr>\n",
       "      <th>5</th>\n",
       "      <td>Fare</td>\n",
       "      <td>0.113884</td>\n",
       "    </tr>\n",
       "    <tr>\n",
       "      <th>8</th>\n",
       "      <td>Title_Mr</td>\n",
       "      <td>0.104700</td>\n",
       "    </tr>\n",
       "    <tr>\n",
       "      <th>1</th>\n",
       "      <td>Sex</td>\n",
       "      <td>0.093512</td>\n",
       "    </tr>\n",
       "    <tr>\n",
       "      <th>9</th>\n",
       "      <td>Title_Mrs</td>\n",
       "      <td>0.048542</td>\n",
       "    </tr>\n",
       "    <tr>\n",
       "      <th>7</th>\n",
       "      <td>Title_Miss</td>\n",
       "      <td>0.047813</td>\n",
       "    </tr>\n",
       "    <tr>\n",
       "      <th>26</th>\n",
       "      <td>Pclass_3</td>\n",
       "      <td>0.042710</td>\n",
       "    </tr>\n",
       "    <tr>\n",
       "      <th>23</th>\n",
       "      <td>Cabin_U</td>\n",
       "      <td>0.027493</td>\n",
       "    </tr>\n",
       "    <tr>\n",
       "      <th>64</th>\n",
       "      <td>FamilySize</td>\n",
       "      <td>0.020643</td>\n",
       "    </tr>\n",
       "    <tr>\n",
       "      <th>66</th>\n",
       "      <td>SmallFamily</td>\n",
       "      <td>0.020298</td>\n",
       "    </tr>\n",
       "    <tr>\n",
       "      <th>24</th>\n",
       "      <td>Pclass_1</td>\n",
       "      <td>0.018991</td>\n",
       "    </tr>\n",
       "    <tr>\n",
       "      <th>3</th>\n",
       "      <td>SibSp</td>\n",
       "      <td>0.016671</td>\n",
       "    </tr>\n",
       "    <tr>\n",
       "      <th>67</th>\n",
       "      <td>LargeFamily</td>\n",
       "      <td>0.016407</td>\n",
       "    </tr>\n",
       "    <tr>\n",
       "      <th>4</th>\n",
       "      <td>Parch</td>\n",
       "      <td>0.014634</td>\n",
       "    </tr>\n",
       "    <tr>\n",
       "      <th>6</th>\n",
       "      <td>Title_Master</td>\n",
       "      <td>0.013970</td>\n",
       "    </tr>\n",
       "    <tr>\n",
       "      <th>14</th>\n",
       "      <td>Embarked_S</td>\n",
       "      <td>0.012622</td>\n",
       "    </tr>\n",
       "    <tr>\n",
       "      <th>63</th>\n",
       "      <td>Ticket_XXX</td>\n",
       "      <td>0.012227</td>\n",
       "    </tr>\n",
       "    <tr>\n",
       "      <th>25</th>\n",
       "      <td>Pclass_2</td>\n",
       "      <td>0.012040</td>\n",
       "    </tr>\n",
       "    <tr>\n",
       "      <th>65</th>\n",
       "      <td>Singleton</td>\n",
       "      <td>0.011331</td>\n",
       "    </tr>\n",
       "    <tr>\n",
       "      <th>12</th>\n",
       "      <td>Embarked_C</td>\n",
       "      <td>0.010805</td>\n",
       "    </tr>\n",
       "    <tr>\n",
       "      <th>19</th>\n",
       "      <td>Cabin_E</td>\n",
       "      <td>0.009161</td>\n",
       "    </tr>\n",
       "    <tr>\n",
       "      <th>16</th>\n",
       "      <td>Cabin_B</td>\n",
       "      <td>0.007664</td>\n",
       "    </tr>\n",
       "    <tr>\n",
       "      <th>13</th>\n",
       "      <td>Embarked_Q</td>\n",
       "      <td>0.007382</td>\n",
       "    </tr>\n",
       "    <tr>\n",
       "      <th>18</th>\n",
       "      <td>Cabin_D</td>\n",
       "      <td>0.007206</td>\n",
       "    </tr>\n",
       "    <tr>\n",
       "      <th>10</th>\n",
       "      <td>Title_Officer</td>\n",
       "      <td>0.006821</td>\n",
       "    </tr>\n",
       "    <tr>\n",
       "      <th>41</th>\n",
       "      <td>Ticket_PC</td>\n",
       "      <td>0.006653</td>\n",
       "    </tr>\n",
       "    <tr>\n",
       "      <th>60</th>\n",
       "      <td>Ticket_SWPP</td>\n",
       "      <td>0.006472</td>\n",
       "    </tr>\n",
       "    <tr>\n",
       "      <th>17</th>\n",
       "      <td>Cabin_C</td>\n",
       "      <td>0.006363</td>\n",
       "    </tr>\n",
       "    <tr>\n",
       "      <th>57</th>\n",
       "      <td>Ticket_STONO</td>\n",
       "      <td>0.005657</td>\n",
       "    </tr>\n",
       "    <tr>\n",
       "      <th>...</th>\n",
       "      <td>...</td>\n",
       "      <td>...</td>\n",
       "    </tr>\n",
       "    <tr>\n",
       "      <th>53</th>\n",
       "      <td>Ticket_SOPP</td>\n",
       "      <td>0.001788</td>\n",
       "    </tr>\n",
       "    <tr>\n",
       "      <th>21</th>\n",
       "      <td>Cabin_G</td>\n",
       "      <td>0.001348</td>\n",
       "    </tr>\n",
       "    <tr>\n",
       "      <th>11</th>\n",
       "      <td>Title_Royalty</td>\n",
       "      <td>0.001057</td>\n",
       "    </tr>\n",
       "    <tr>\n",
       "      <th>62</th>\n",
       "      <td>Ticket_WEP</td>\n",
       "      <td>0.000889</td>\n",
       "    </tr>\n",
       "    <tr>\n",
       "      <th>42</th>\n",
       "      <td>Ticket_PP</td>\n",
       "      <td>0.000832</td>\n",
       "    </tr>\n",
       "    <tr>\n",
       "      <th>51</th>\n",
       "      <td>Ticket_SOC</td>\n",
       "      <td>0.000753</td>\n",
       "    </tr>\n",
       "    <tr>\n",
       "      <th>36</th>\n",
       "      <td>Ticket_FC</td>\n",
       "      <td>0.000739</td>\n",
       "    </tr>\n",
       "    <tr>\n",
       "      <th>37</th>\n",
       "      <td>Ticket_FCC</td>\n",
       "      <td>0.000635</td>\n",
       "    </tr>\n",
       "    <tr>\n",
       "      <th>39</th>\n",
       "      <td>Ticket_LINE</td>\n",
       "      <td>0.000593</td>\n",
       "    </tr>\n",
       "    <tr>\n",
       "      <th>49</th>\n",
       "      <td>Ticket_SCPARIS</td>\n",
       "      <td>0.000541</td>\n",
       "    </tr>\n",
       "    <tr>\n",
       "      <th>28</th>\n",
       "      <td>Ticket_A4</td>\n",
       "      <td>0.000457</td>\n",
       "    </tr>\n",
       "    <tr>\n",
       "      <th>50</th>\n",
       "      <td>Ticket_SCParis</td>\n",
       "      <td>0.000402</td>\n",
       "    </tr>\n",
       "    <tr>\n",
       "      <th>22</th>\n",
       "      <td>Cabin_T</td>\n",
       "      <td>0.000295</td>\n",
       "    </tr>\n",
       "    <tr>\n",
       "      <th>47</th>\n",
       "      <td>Ticket_SCAH</td>\n",
       "      <td>0.000216</td>\n",
       "    </tr>\n",
       "    <tr>\n",
       "      <th>52</th>\n",
       "      <td>Ticket_SOP</td>\n",
       "      <td>0.000145</td>\n",
       "    </tr>\n",
       "    <tr>\n",
       "      <th>44</th>\n",
       "      <td>Ticket_SC</td>\n",
       "      <td>0.000127</td>\n",
       "    </tr>\n",
       "    <tr>\n",
       "      <th>56</th>\n",
       "      <td>Ticket_SP</td>\n",
       "      <td>0.000109</td>\n",
       "    </tr>\n",
       "    <tr>\n",
       "      <th>54</th>\n",
       "      <td>Ticket_SOTONO2</td>\n",
       "      <td>0.000091</td>\n",
       "    </tr>\n",
       "    <tr>\n",
       "      <th>43</th>\n",
       "      <td>Ticket_PPP</td>\n",
       "      <td>0.000068</td>\n",
       "    </tr>\n",
       "    <tr>\n",
       "      <th>35</th>\n",
       "      <td>Ticket_CASOTON</td>\n",
       "      <td>0.000059</td>\n",
       "    </tr>\n",
       "    <tr>\n",
       "      <th>38</th>\n",
       "      <td>Ticket_Fa</td>\n",
       "      <td>0.000057</td>\n",
       "    </tr>\n",
       "    <tr>\n",
       "      <th>46</th>\n",
       "      <td>Ticket_SCA4</td>\n",
       "      <td>0.000055</td>\n",
       "    </tr>\n",
       "    <tr>\n",
       "      <th>32</th>\n",
       "      <td>Ticket_AS</td>\n",
       "      <td>0.000043</td>\n",
       "    </tr>\n",
       "    <tr>\n",
       "      <th>48</th>\n",
       "      <td>Ticket_SCOW</td>\n",
       "      <td>0.000028</td>\n",
       "    </tr>\n",
       "    <tr>\n",
       "      <th>45</th>\n",
       "      <td>Ticket_SCA3</td>\n",
       "      <td>0.000000</td>\n",
       "    </tr>\n",
       "    <tr>\n",
       "      <th>59</th>\n",
       "      <td>Ticket_STONOQ</td>\n",
       "      <td>0.000000</td>\n",
       "    </tr>\n",
       "    <tr>\n",
       "      <th>40</th>\n",
       "      <td>Ticket_LP</td>\n",
       "      <td>0.000000</td>\n",
       "    </tr>\n",
       "    <tr>\n",
       "      <th>31</th>\n",
       "      <td>Ticket_AQ4</td>\n",
       "      <td>0.000000</td>\n",
       "    </tr>\n",
       "    <tr>\n",
       "      <th>30</th>\n",
       "      <td>Ticket_AQ3</td>\n",
       "      <td>0.000000</td>\n",
       "    </tr>\n",
       "    <tr>\n",
       "      <th>27</th>\n",
       "      <td>Ticket_A</td>\n",
       "      <td>0.000000</td>\n",
       "    </tr>\n",
       "  </tbody>\n",
       "</table>\n",
       "<p>68 rows × 2 columns</p>\n",
       "</div>"
      ],
      "text/plain": [
       "           feature  importance\n",
       "0      PassengerId    0.128693\n",
       "2              Age    0.118302\n",
       "5             Fare    0.113884\n",
       "8         Title_Mr    0.104700\n",
       "1              Sex    0.093512\n",
       "9        Title_Mrs    0.048542\n",
       "7       Title_Miss    0.047813\n",
       "26        Pclass_3    0.042710\n",
       "23         Cabin_U    0.027493\n",
       "64      FamilySize    0.020643\n",
       "66     SmallFamily    0.020298\n",
       "24        Pclass_1    0.018991\n",
       "3            SibSp    0.016671\n",
       "67     LargeFamily    0.016407\n",
       "4            Parch    0.014634\n",
       "6     Title_Master    0.013970\n",
       "14      Embarked_S    0.012622\n",
       "63      Ticket_XXX    0.012227\n",
       "25        Pclass_2    0.012040\n",
       "65       Singleton    0.011331\n",
       "12      Embarked_C    0.010805\n",
       "19         Cabin_E    0.009161\n",
       "16         Cabin_B    0.007664\n",
       "13      Embarked_Q    0.007382\n",
       "18         Cabin_D    0.007206\n",
       "10   Title_Officer    0.006821\n",
       "41       Ticket_PC    0.006653\n",
       "60     Ticket_SWPP    0.006472\n",
       "17         Cabin_C    0.006363\n",
       "57    Ticket_STONO    0.005657\n",
       "..             ...         ...\n",
       "53     Ticket_SOPP    0.001788\n",
       "21         Cabin_G    0.001348\n",
       "11   Title_Royalty    0.001057\n",
       "62      Ticket_WEP    0.000889\n",
       "42       Ticket_PP    0.000832\n",
       "51      Ticket_SOC    0.000753\n",
       "36       Ticket_FC    0.000739\n",
       "37      Ticket_FCC    0.000635\n",
       "39     Ticket_LINE    0.000593\n",
       "49  Ticket_SCPARIS    0.000541\n",
       "28       Ticket_A4    0.000457\n",
       "50  Ticket_SCParis    0.000402\n",
       "22         Cabin_T    0.000295\n",
       "47     Ticket_SCAH    0.000216\n",
       "52      Ticket_SOP    0.000145\n",
       "44       Ticket_SC    0.000127\n",
       "56       Ticket_SP    0.000109\n",
       "54  Ticket_SOTONO2    0.000091\n",
       "43      Ticket_PPP    0.000068\n",
       "35  Ticket_CASOTON    0.000059\n",
       "38       Ticket_Fa    0.000057\n",
       "46     Ticket_SCA4    0.000055\n",
       "32       Ticket_AS    0.000043\n",
       "48     Ticket_SCOW    0.000028\n",
       "45     Ticket_SCA3    0.000000\n",
       "59   Ticket_STONOQ    0.000000\n",
       "40       Ticket_LP    0.000000\n",
       "31      Ticket_AQ4    0.000000\n",
       "30      Ticket_AQ3    0.000000\n",
       "27        Ticket_A    0.000000\n",
       "\n",
       "[68 rows x 2 columns]"
      ]
     },
     "execution_count": 47,
     "metadata": {},
     "output_type": "execute_result"
    }
   ],
   "source": [
    "features.sort_values(['importance'],ascending=False)"
   ]
  },
  {
   "cell_type": "code",
   "execution_count": 48,
   "metadata": {
    "nbpresent": {
     "id": "45166575-0fac-44a0-b759-2d5a0cf1d567"
    }
   },
   "outputs": [
    {
     "data": {
      "text/plain": [
       "(891, 14)"
      ]
     },
     "execution_count": 48,
     "metadata": {},
     "output_type": "execute_result"
    }
   ],
   "source": [
    "# Como vemos hay gran importancia en la edad, el titulo de la persona, el precio del ticket y el sexo, asi como una \n",
    "# gran correlacion con el passengerID\n",
    "\n",
    "# Asi que con esto vamos a crear unos datasets mas compactos \n",
    "model = SelectFromModel(clf, prefit=True)\n",
    "train_new = model.transform(train)\n",
    "train_new.shape"
   ]
  },
  {
   "cell_type": "code",
   "execution_count": 49,
   "metadata": {
    "nbpresent": {
     "id": "76da287b-026e-4546-8112-e97dda09585a"
    }
   },
   "outputs": [
    {
     "data": {
      "text/plain": [
       "(418, 14)"
      ]
     },
     "execution_count": 49,
     "metadata": {},
     "output_type": "execute_result"
    }
   ],
   "source": [
    "test_new = model.transform(test)\n",
    "test_new.shape\n",
    "\n",
    "# Y esta vez como podemos ver hemos vuelto a tener pocas features, 15, lo cual esta cerca del numero inicial que eran 12"
   ]
  },
  {
   "cell_type": "markdown",
   "metadata": {
    "nbpresent": {
     "id": "e5409800-028f-403a-98d1-0028176d64bd"
    }
   },
   "source": [
    "# Hyperparameters Tuning\n",
    "Una vez terminado el ejercicio se pueden modificar ciertos parametros que permiten modificar el ratio de aciertos.\n",
    "https://www.analyticsvidhya.com/blog/2015/06/tuning-random-forest-model/"
   ]
  },
  {
   "cell_type": "code",
   "execution_count": 50,
   "metadata": {
    "nbpresent": {
     "id": "d6246323-699c-4007-b1b4-9bf765036154"
    }
   },
   "outputs": [
    {
     "name": "stdout",
     "output_type": "stream",
     "text": [
      "Best score: 0.8327721661054994\n",
      "Best parameters: {'criterion': 'gini', 'max_depth': 4, 'n_estimators': 210, 'n_jobs': -1}\n"
     ]
    }
   ],
   "source": [
    "forest = RandomForestClassifier(max_features='sqrt')\n",
    "\n",
    "parameter_grid = {\n",
    "                 'max_depth' : [4,5,6,7],\n",
    "                 'n_estimators': [200,210,208,212],\n",
    "                 'criterion': ['gini','entropy'],\n",
    "                 'n_jobs': [-1]\n",
    "                 }\n",
    "\n",
    "cross_validation = StratifiedKFold(targets, n_folds=5)\n",
    "\n",
    "grid_search = GridSearchCV(forest,\n",
    "                           param_grid=parameter_grid,\n",
    "                           cv=cross_validation)\n",
    "\n",
    "grid_search.fit(train_new, targets)\n",
    "\n",
    "print('Best score: {}'.format(grid_search.best_score_))\n",
    "print('Best parameters: {}'.format(grid_search.best_params_))"
   ]
  },
  {
   "cell_type": "code",
   "execution_count": 51,
   "metadata": {
    "collapsed": true,
    "nbpresent": {
     "id": "2772460d-4fa6-4130-9969-69e31e9bb5e5"
    }
   },
   "outputs": [],
   "source": [
    "output = grid_search.predict(test_new).astype(int)\n",
    "df_output = pd.DataFrame()\n",
    "df_output['PassengerId'] = test['PassengerId']\n",
    "df_output['Survived'] = output\n",
    "df_output[['PassengerId','Survived']].to_csv('./titanic/output.csv',index=False)"
   ]
  },
  {
   "cell_type": "code",
   "execution_count": null,
   "metadata": {
    "collapsed": true
   },
   "outputs": [],
   "source": []
  }
 ],
 "metadata": {
  "anaconda-cloud": {},
  "celltoolbar": "Slideshow",
  "kernelspec": {
   "display_name": "Python (ml)",
   "language": "python",
   "name": "ml"
  },
  "language_info": {
   "codemirror_mode": {
    "name": "ipython",
    "version": 3
   },
   "file_extension": ".py",
   "mimetype": "text/x-python",
   "name": "python",
   "nbconvert_exporter": "python",
   "pygments_lexer": "ipython3",
   "version": "3.6.1"
  },
  "nbpresent": {
   "slides": {
    "0260544e-375d-4951-99fe-13b7b6b15d20": {
     "id": "0260544e-375d-4951-99fe-13b7b6b15d20",
     "prev": "81019a24-f394-4472-a04a-0e87e68e03cf",
     "regions": {
      "95e09989-8a38-4fe7-8a55-8be6e4379fc0": {
       "attrs": {
        "height": 0.8,
        "width": 0.8,
        "x": 0.1,
        "y": 0.1
       },
       "content": {
        "cell": "2772460d-4fa6-4130-9969-69e31e9bb5e5",
        "part": "whole"
       },
       "id": "95e09989-8a38-4fe7-8a55-8be6e4379fc0"
      }
     }
    },
    "09639aff-000c-4040-bd2d-078d04330f2e": {
     "id": "09639aff-000c-4040-bd2d-078d04330f2e",
     "prev": "ff7e41cd-ef94-4488-be67-e63eb06610c9",
     "regions": {
      "f9172072-de91-4645-a6fb-9ba4bcdb104e": {
       "attrs": {
        "height": 0.8,
        "width": 0.8,
        "x": 0.1,
        "y": 0.1
       },
       "content": {
        "cell": "1769b945-52d8-4db7-a2b5-a18ccae4dd11",
        "part": "whole"
       },
       "id": "f9172072-de91-4645-a6fb-9ba4bcdb104e"
      }
     }
    },
    "10542045-56c7-4943-ba25-48827fae8825": {
     "id": "10542045-56c7-4943-ba25-48827fae8825",
     "prev": "2cb7ced1-9e39-4435-997e-1c2bdd02a3d2",
     "regions": {
      "532f7494-b699-4d4a-a286-202b71b0fdc6": {
       "attrs": {
        "height": 0.8,
        "width": 0.8,
        "x": 0.1,
        "y": 0.1
       },
       "content": {
        "cell": "125ec916-e4c6-41b9-b8f7-630073ac83b2",
        "part": "whole"
       },
       "id": "532f7494-b699-4d4a-a286-202b71b0fdc6"
      }
     }
    },
    "132e4dd8-d9ac-43a4-8147-58bdae01c9d3": {
     "id": "132e4dd8-d9ac-43a4-8147-58bdae01c9d3",
     "prev": "3c72c41e-a59d-4ea7-a10d-3c57b2723573",
     "regions": {
      "fbf5f8c3-980a-4244-bbcf-a21c9ecf3368": {
       "attrs": {
        "height": 0.8,
        "width": 0.8,
        "x": 0.1,
        "y": 0.1
       },
       "content": {
        "cell": "176c6565-99e0-4e47-b06a-bdee5234438a",
        "part": "whole"
       },
       "id": "fbf5f8c3-980a-4244-bbcf-a21c9ecf3368"
      }
     }
    },
    "1c348bd6-39f7-4b18-8da6-0fde37d4c8d5": {
     "id": "1c348bd6-39f7-4b18-8da6-0fde37d4c8d5",
     "prev": "6e742775-1cd7-4151-9438-000e51f60cc4",
     "regions": {
      "b503d400-e8a5-4cdf-a0d9-66976c5dd515": {
       "attrs": {
        "height": 0.8,
        "width": 0.8,
        "x": 0.1,
        "y": 0.1
       },
       "content": {
        "cell": "b7b0ac8e-c75b-428a-8aec-55d0a3d1034a",
        "part": "whole"
       },
       "id": "b503d400-e8a5-4cdf-a0d9-66976c5dd515"
      }
     }
    },
    "1c950052-0bb8-445b-abf5-7ded3d5b4223": {
     "id": "1c950052-0bb8-445b-abf5-7ded3d5b4223",
     "prev": "8082f6de-f95c-438b-95b7-9ca7ddccbc7e",
     "regions": {
      "7eecb301-fd01-4b2a-aad5-bb74a1ec0907": {
       "attrs": {
        "height": 0.8,
        "width": 0.8,
        "x": 0.1,
        "y": 0.1
       },
       "content": {
        "cell": "f1341dae-e1f1-4d63-9430-b5c2bbb4af1d",
        "part": "whole"
       },
       "id": "7eecb301-fd01-4b2a-aad5-bb74a1ec0907"
      }
     }
    },
    "1c9cbe27-a31b-4837-9b7d-25f758b0c94b": {
     "id": "1c9cbe27-a31b-4837-9b7d-25f758b0c94b",
     "prev": "10542045-56c7-4943-ba25-48827fae8825",
     "regions": {
      "22f610ae-178d-44ea-80ef-ec8fdde15551": {
       "attrs": {
        "height": 0.8,
        "width": 0.8,
        "x": 0.1,
        "y": 0.1
       },
       "content": {
        "cell": "a66c5df1-31d9-41c2-99ff-e9561f8ddb00",
        "part": "whole"
       },
       "id": "22f610ae-178d-44ea-80ef-ec8fdde15551"
      }
     }
    },
    "23aa8d77-985f-42de-a989-d74c06442001": {
     "id": "23aa8d77-985f-42de-a989-d74c06442001",
     "prev": "1c348bd6-39f7-4b18-8da6-0fde37d4c8d5",
     "regions": {
      "9c5bff16-36d5-41ef-ad75-ce9b4e370120": {
       "attrs": {
        "height": 0.8,
        "width": 0.8,
        "x": 0.1,
        "y": 0.1
       },
       "content": {
        "cell": "67f458df-4d87-4914-82a4-ef4ef52617d2",
        "part": "whole"
       },
       "id": "9c5bff16-36d5-41ef-ad75-ce9b4e370120"
      }
     }
    },
    "2b30c988-4303-49d5-8f02-d36a80fd4859": {
     "id": "2b30c988-4303-49d5-8f02-d36a80fd4859",
     "prev": "740447e0-35ec-4db1-818b-bda8fbe8bcff",
     "regions": {
      "a752c263-1899-4874-9ffd-e96aed369436": {
       "attrs": {
        "height": 0.8,
        "width": 0.8,
        "x": 0.1,
        "y": 0.1
       },
       "content": {
        "cell": "9fd67817-9699-4b08-9429-ce1536a428b9",
        "part": "whole"
       },
       "id": "a752c263-1899-4874-9ffd-e96aed369436"
      }
     }
    },
    "2b6ff0cb-f4bc-497a-b6cd-4b4d9dcdb644": {
     "id": "2b6ff0cb-f4bc-497a-b6cd-4b4d9dcdb644",
     "prev": "408885ac-14f3-4834-9d7c-cc1e2699c372",
     "regions": {
      "84357f6d-f40d-4135-86cf-3979ee9e6be0": {
       "attrs": {
        "height": 0.8,
        "width": 0.8,
        "x": 0.1,
        "y": 0.1
       },
       "content": {
        "cell": "748f3dfb-c317-4017-bc8f-b3a84b5f1d51",
        "part": "whole"
       },
       "id": "84357f6d-f40d-4135-86cf-3979ee9e6be0"
      }
     }
    },
    "2cb7ced1-9e39-4435-997e-1c2bdd02a3d2": {
     "id": "2cb7ced1-9e39-4435-997e-1c2bdd02a3d2",
     "prev": "8259e69b-b3cb-4a39-a635-0cc41fc62802",
     "regions": {
      "0d040c21-9190-4f6c-a146-f6db8ae42dee": {
       "attrs": {
        "height": 0.8,
        "width": 0.8,
        "x": 0.1,
        "y": 0.1
       },
       "content": {
        "cell": "6d62d539-3431-4df9-bbfd-360804d057df",
        "part": "whole"
       },
       "id": "0d040c21-9190-4f6c-a146-f6db8ae42dee"
      }
     }
    },
    "36f6650d-8a01-498b-86f1-93fc62147bd7": {
     "id": "36f6650d-8a01-498b-86f1-93fc62147bd7",
     "prev": "808b2b2e-e2cc-4252-83d4-03899408f650",
     "regions": {
      "ccba3409-57c0-42a4-9276-5dbe41ec59ba": {
       "attrs": {
        "height": 0.8,
        "width": 0.8,
        "x": 0.1,
        "y": 0.1
       },
       "content": {
        "cell": "d833e2e5-29f2-4e83-866b-49f355dca995",
        "part": "whole"
       },
       "id": "ccba3409-57c0-42a4-9276-5dbe41ec59ba"
      }
     }
    },
    "3bf412ae-3f3e-4eff-90da-f1b4832b1ac4": {
     "id": "3bf412ae-3f3e-4eff-90da-f1b4832b1ac4",
     "prev": "c60b69df-ac73-4861-9280-c4a747c293e8",
     "regions": {
      "3c2e35af-ef36-4f0b-ba12-9e3edb270293": {
       "attrs": {
        "height": 0.8,
        "width": 0.8,
        "x": 0.1,
        "y": 0.1
       },
       "content": {
        "cell": "a339fa91-d372-4b83-becc-48af7d265ff6",
        "part": "whole"
       },
       "id": "3c2e35af-ef36-4f0b-ba12-9e3edb270293"
      }
     }
    },
    "3c021188-f143-48a1-a4fb-ca254303d849": {
     "id": "3c021188-f143-48a1-a4fb-ca254303d849",
     "prev": "48000a5a-4119-4551-945c-1084f11de970",
     "regions": {
      "845f4f80-ed80-409e-bb77-d0d8c13a3037": {
       "attrs": {
        "height": 0.8,
        "width": 0.8,
        "x": 0.1,
        "y": 0.1
       },
       "content": {
        "cell": "45b23d11-b985-4409-b1e5-4c940e24525c",
        "part": "whole"
       },
       "id": "845f4f80-ed80-409e-bb77-d0d8c13a3037"
      }
     }
    },
    "3c72c41e-a59d-4ea7-a10d-3c57b2723573": {
     "id": "3c72c41e-a59d-4ea7-a10d-3c57b2723573",
     "prev": "3f29d551-7529-4169-8b85-2002c4daad51",
     "regions": {
      "205e646c-c6ec-4a14-a21a-5eb06b34cbf2": {
       "attrs": {
        "height": 0.8,
        "width": 0.8,
        "x": 0.1,
        "y": 0.1
       },
       "content": {
        "cell": "82103f2b-275c-4c8e-bc82-109b4c0eff36",
        "part": "whole"
       },
       "id": "205e646c-c6ec-4a14-a21a-5eb06b34cbf2"
      }
     }
    },
    "3f29d551-7529-4169-8b85-2002c4daad51": {
     "id": "3f29d551-7529-4169-8b85-2002c4daad51",
     "prev": "2b6ff0cb-f4bc-497a-b6cd-4b4d9dcdb644",
     "regions": {
      "72c0b416-ac21-4ca1-ba6b-8d0b31112636": {
       "attrs": {
        "height": 0.8,
        "width": 0.8,
        "x": 0.1,
        "y": 0.1
       },
       "content": {
        "cell": "f3750a56-fe81-4484-948e-9c38489731ad",
        "part": "whole"
       },
       "id": "72c0b416-ac21-4ca1-ba6b-8d0b31112636"
      }
     }
    },
    "408885ac-14f3-4834-9d7c-cc1e2699c372": {
     "id": "408885ac-14f3-4834-9d7c-cc1e2699c372",
     "prev": "a4cf283d-c98e-412e-be9f-2149b7e26791",
     "regions": {
      "df729b31-ae0e-436d-8e55-15fdb9e73dc6": {
       "attrs": {
        "height": 0.8,
        "width": 0.8,
        "x": 0.1,
        "y": 0.1
       },
       "content": {
        "cell": "11812fbc-22b9-4faf-9cef-f98d9197fedf",
        "part": "whole"
       },
       "id": "df729b31-ae0e-436d-8e55-15fdb9e73dc6"
      }
     }
    },
    "450c6fb6-57e1-4500-96da-5686aaeeea55": {
     "id": "450c6fb6-57e1-4500-96da-5686aaeeea55",
     "prev": "c7596e86-4230-4e71-96d3-0da232fad49f",
     "regions": {
      "8ff38918-67cd-4f53-afb7-0e476daca74c": {
       "attrs": {
        "height": 0.8,
        "width": 0.8,
        "x": 0.1,
        "y": 0.1
       },
       "content": {
        "cell": "cacdcd45-2808-432c-b5e6-7914f1b5cb87",
        "part": "whole"
       },
       "id": "8ff38918-67cd-4f53-afb7-0e476daca74c"
      }
     }
    },
    "48000a5a-4119-4551-945c-1084f11de970": {
     "id": "48000a5a-4119-4551-945c-1084f11de970",
     "prev": "965297f6-aa94-4a8c-a3f0-4d0ab752ef45",
     "regions": {
      "16dc84c7-25c5-4ee4-aec3-65d405d93553": {
       "attrs": {
        "height": 0.8,
        "width": 0.8,
        "x": 0.1,
        "y": 0.1
       },
       "content": {
        "cell": "8665f022-149c-4fb5-8865-e2560d05e579",
        "part": "whole"
       },
       "id": "16dc84c7-25c5-4ee4-aec3-65d405d93553"
      }
     }
    },
    "4d258cb2-822c-4956-800c-91726898d7b7": {
     "id": "4d258cb2-822c-4956-800c-91726898d7b7",
     "prev": "df1b7710-40ae-414e-bff3-1ec502d17771",
     "regions": {
      "9dfd5b1f-cce0-4c0d-bcb7-9e73716ceb58": {
       "attrs": {
        "height": 0.8,
        "width": 0.8,
        "x": 0.1,
        "y": 0.1
       },
       "content": {
        "cell": "2ab52cd1-1429-4dc5-94a2-4683f3de2993",
        "part": "whole"
       },
       "id": "9dfd5b1f-cce0-4c0d-bcb7-9e73716ceb58"
      }
     }
    },
    "5d71ca97-3551-4e16-bed1-d88b2d12fdcf": {
     "id": "5d71ca97-3551-4e16-bed1-d88b2d12fdcf",
     "prev": "c058be62-d4ef-4151-9fff-16ebdcbf1c43",
     "regions": {
      "c85297cb-7752-48bc-bfc6-f5446b65a481": {
       "attrs": {
        "height": 0.8,
        "width": 0.8,
        "x": 0.1,
        "y": 0.1
       },
       "content": {
        "cell": "051be64c-3d66-477d-afb1-d1752c13e737",
        "part": "whole"
       },
       "id": "c85297cb-7752-48bc-bfc6-f5446b65a481"
      }
     }
    },
    "6a310765-d277-4b66-b83d-c3a6118d6ac7": {
     "id": "6a310765-d277-4b66-b83d-c3a6118d6ac7",
     "prev": "b42d5324-b8eb-4bee-a545-977a28a3ba0d",
     "regions": {
      "1d550720-8681-438e-990a-441179793ff7": {
       "attrs": {
        "height": 0.8,
        "width": 0.8,
        "x": 0.1,
        "y": 0.1
       },
       "content": {
        "cell": "45166575-0fac-44a0-b759-2d5a0cf1d567",
        "part": "whole"
       },
       "id": "1d550720-8681-438e-990a-441179793ff7"
      }
     }
    },
    "6d9dc89a-8b23-47d1-84d8-bade26c43923": {
     "id": "6d9dc89a-8b23-47d1-84d8-bade26c43923",
     "prev": "e0c99a8b-79c0-46d8-b67d-b9b63d31ece4",
     "regions": {
      "a6df2519-0046-4c02-9278-f94adc2f7aa0": {
       "attrs": {
        "height": 0.8,
        "width": 0.8,
        "x": 0.1,
        "y": 0.1
       },
       "content": {
        "cell": "a6ecccf6-df04-4290-ac19-d1c828bf1225",
        "part": "whole"
       },
       "id": "a6df2519-0046-4c02-9278-f94adc2f7aa0"
      }
     }
    },
    "6e742775-1cd7-4151-9438-000e51f60cc4": {
     "id": "6e742775-1cd7-4151-9438-000e51f60cc4",
     "prev": "bd9e2ce5-a70d-42a3-af13-5ab03c0695c8",
     "regions": {
      "266c7547-71e6-4886-b450-8e8d5e4516d9": {
       "attrs": {
        "height": 0.8,
        "width": 0.8,
        "x": 0.1,
        "y": 0.1
       },
       "content": {
        "cell": "7f44f865-f160-4046-9ee6-13c71d0f621f",
        "part": "whole"
       },
       "id": "266c7547-71e6-4886-b450-8e8d5e4516d9"
      }
     }
    },
    "72196914-572d-4190-9b35-0da8de17ba4b": {
     "id": "72196914-572d-4190-9b35-0da8de17ba4b",
     "prev": "8528aae0-cabe-4b74-9093-29419415e3e0",
     "regions": {
      "c1430af8-0e1a-48e7-848d-31329d82f441": {
       "attrs": {
        "height": 0.8,
        "width": 0.8,
        "x": 0.1,
        "y": 0.1
       },
       "content": {
        "cell": "0a7f9748-15a7-473f-a483-a80762389539",
        "part": "whole"
       },
       "id": "c1430af8-0e1a-48e7-848d-31329d82f441"
      }
     }
    },
    "740447e0-35ec-4db1-818b-bda8fbe8bcff": {
     "id": "740447e0-35ec-4db1-818b-bda8fbe8bcff",
     "prev": "8d463ef9-75f8-46a5-a080-afa4ba4fe23e",
     "regions": {
      "9628d173-c528-4443-9b5d-8a5b05c7cedb": {
       "attrs": {
        "height": 0.8,
        "width": 0.8,
        "x": 0.1,
        "y": 0.1
       },
       "content": {
        "cell": "4cf2474a-118a-4bea-a0f5-422466fb788d",
        "part": "whole"
       },
       "id": "9628d173-c528-4443-9b5d-8a5b05c7cedb"
      }
     }
    },
    "79cfb9df-64b9-4337-888f-a2bd4bb0ded0": {
     "id": "79cfb9df-64b9-4337-888f-a2bd4bb0ded0",
     "prev": "1c950052-0bb8-445b-abf5-7ded3d5b4223",
     "regions": {
      "9bd0dfb4-27aa-4e47-a3ba-1176667a2627": {
       "attrs": {
        "height": 0.8,
        "width": 0.8,
        "x": 0.1,
        "y": 0.1
       },
       "content": {
        "cell": "cca11249-9635-4fa8-8ec4-389218fbbc6c",
        "part": "whole"
       },
       "id": "9bd0dfb4-27aa-4e47-a3ba-1176667a2627"
      }
     }
    },
    "7a446828-a2a5-441c-ad45-bb4b5b09d43d": {
     "id": "7a446828-a2a5-441c-ad45-bb4b5b09d43d",
     "prev": "5d71ca97-3551-4e16-bed1-d88b2d12fdcf",
     "regions": {
      "fec09cc9-87cd-4d36-adcc-356fa2926b97": {
       "attrs": {
        "height": 0.8,
        "width": 0.8,
        "x": 0.1,
        "y": 0.1
       },
       "content": {
        "cell": "76821e33-cc9b-4e83-a524-0985cca56f4b",
        "part": "whole"
       },
       "id": "fec09cc9-87cd-4d36-adcc-356fa2926b97"
      }
     }
    },
    "8082f6de-f95c-438b-95b7-9ca7ddccbc7e": {
     "id": "8082f6de-f95c-438b-95b7-9ca7ddccbc7e",
     "prev": null,
     "regions": {
      "468f2249-93bb-4f57-a8ab-b9de0d4fc5f5": {
       "attrs": {
        "height": 0.8,
        "width": 0.8,
        "x": 0.1,
        "y": 0.1
       },
       "content": {
        "cell": "9e152d8c-264c-49bc-a24e-0892be45658f",
        "part": "whole"
       },
       "id": "468f2249-93bb-4f57-a8ab-b9de0d4fc5f5"
      }
     }
    },
    "808b2b2e-e2cc-4252-83d4-03899408f650": {
     "id": "808b2b2e-e2cc-4252-83d4-03899408f650",
     "prev": "450c6fb6-57e1-4500-96da-5686aaeeea55",
     "regions": {
      "a0fe4a27-0e21-4904-846a-d6aa05ced06f": {
       "attrs": {
        "height": 0.8,
        "width": 0.8,
        "x": 0.1,
        "y": 0.1
       },
       "content": {
        "cell": "543351ad-eef8-46fa-ad8a-28a0bd5bc72a",
        "part": "whole"
       },
       "id": "a0fe4a27-0e21-4904-846a-d6aa05ced06f"
      }
     }
    },
    "81019a24-f394-4472-a04a-0e87e68e03cf": {
     "id": "81019a24-f394-4472-a04a-0e87e68e03cf",
     "prev": "a0f71e50-788c-431f-a46c-492a1b36aa8d",
     "regions": {
      "cf7c686a-15f1-4246-8e18-18476e355063": {
       "attrs": {
        "height": 0.8,
        "width": 0.8,
        "x": 0.1,
        "y": 0.1
       },
       "content": {
        "cell": "d6246323-699c-4007-b1b4-9bf765036154",
        "part": "whole"
       },
       "id": "cf7c686a-15f1-4246-8e18-18476e355063"
      }
     }
    },
    "81af6006-28af-4164-92d9-a0550a8d771b": {
     "id": "81af6006-28af-4164-92d9-a0550a8d771b",
     "prev": "72196914-572d-4190-9b35-0da8de17ba4b",
     "regions": {
      "4b6d3c7d-045c-49a0-80fd-9b01ea0592cb": {
       "attrs": {
        "height": 0.8,
        "width": 0.8,
        "x": 0.1,
        "y": 0.1
       },
       "content": {
        "cell": "680384db-03a8-4ec7-9014-bcc2f1b00535",
        "part": "whole"
       },
       "id": "4b6d3c7d-045c-49a0-80fd-9b01ea0592cb"
      }
     }
    },
    "8259e69b-b3cb-4a39-a635-0cc41fc62802": {
     "id": "8259e69b-b3cb-4a39-a635-0cc41fc62802",
     "prev": "93efe732-fe26-4b94-af55-52b7bd976838",
     "regions": {
      "439c4feb-7604-4d14-a229-3eb2816844e5": {
       "attrs": {
        "height": 0.8,
        "width": 0.8,
        "x": 0.1,
        "y": 0.1
       },
       "content": {
        "cell": "fb4689ba-906b-44bc-ad94-b9bc73f616c8",
        "part": "whole"
       },
       "id": "439c4feb-7604-4d14-a229-3eb2816844e5"
      }
     }
    },
    "8528aae0-cabe-4b74-9093-29419415e3e0": {
     "id": "8528aae0-cabe-4b74-9093-29419415e3e0",
     "prev": "e1a33b61-a7d9-4acb-bb9d-6f83d400e3d9",
     "regions": {
      "55b23c50-87c9-4c3d-ac42-4811e8407511": {
       "attrs": {
        "height": 0.8,
        "width": 0.8,
        "x": 0.1,
        "y": 0.1
       },
       "content": {
        "cell": "b39b97a2-a0f4-4bc7-b441-0529855c1431",
        "part": "whole"
       },
       "id": "55b23c50-87c9-4c3d-ac42-4811e8407511"
      }
     }
    },
    "86594afd-1232-4506-88ac-7c72c7848a29": {
     "id": "86594afd-1232-4506-88ac-7c72c7848a29",
     "prev": "23aa8d77-985f-42de-a989-d74c06442001",
     "regions": {
      "7259433f-383c-43ff-ab5d-03d6eeb6204b": {
       "attrs": {
        "height": 0.8,
        "width": 0.8,
        "x": 0.1,
        "y": 0.1
       },
       "content": {
        "cell": "c92a2163-d341-4d1b-9df9-a4352d38a503",
        "part": "whole"
       },
       "id": "7259433f-383c-43ff-ab5d-03d6eeb6204b"
      }
     }
    },
    "8d463ef9-75f8-46a5-a080-afa4ba4fe23e": {
     "id": "8d463ef9-75f8-46a5-a080-afa4ba4fe23e",
     "prev": "7a446828-a2a5-441c-ad45-bb4b5b09d43d",
     "regions": {
      "cc839151-7fa6-4405-859c-401d11c090a1": {
       "attrs": {
        "height": 0.8,
        "width": 0.8,
        "x": 0.1,
        "y": 0.1
       },
       "content": {
        "cell": "0bd45cd6-4066-4334-a012-b9b068308954",
        "part": "whole"
       },
       "id": "cc839151-7fa6-4405-859c-401d11c090a1"
      }
     }
    },
    "93efe732-fe26-4b94-af55-52b7bd976838": {
     "id": "93efe732-fe26-4b94-af55-52b7bd976838",
     "prev": "09639aff-000c-4040-bd2d-078d04330f2e",
     "regions": {
      "515b04bc-f2c2-4cba-979b-06eaf61285f0": {
       "attrs": {
        "height": 0.8,
        "width": 0.8,
        "x": 0.1,
        "y": 0.1
       },
       "content": {
        "cell": "c69bbb39-1a09-49a9-8a47-2db8b7ff5782",
        "part": "whole"
       },
       "id": "515b04bc-f2c2-4cba-979b-06eaf61285f0"
      }
     }
    },
    "965297f6-aa94-4a8c-a3f0-4d0ab752ef45": {
     "id": "965297f6-aa94-4a8c-a3f0-4d0ab752ef45",
     "prev": "3bf412ae-3f3e-4eff-90da-f1b4832b1ac4",
     "regions": {
      "77a168d6-89b1-4ad8-a401-c884b85248f7": {
       "attrs": {
        "height": 0.8,
        "width": 0.8,
        "x": 0.1,
        "y": 0.1
       },
       "content": {
        "cell": "fe29f47c-99bc-4990-a322-354da051a729",
        "part": "whole"
       },
       "id": "77a168d6-89b1-4ad8-a401-c884b85248f7"
      }
     }
    },
    "a0f71e50-788c-431f-a46c-492a1b36aa8d": {
     "id": "a0f71e50-788c-431f-a46c-492a1b36aa8d",
     "prev": "a73464e9-a823-4154-b053-9e3daae8f496",
     "regions": {
      "c331dcc4-182b-4e3d-a050-ecee1fb21b79": {
       "attrs": {
        "height": 0.8,
        "width": 0.8,
        "x": 0.1,
        "y": 0.1
       },
       "content": {
        "cell": "e5409800-028f-403a-98d1-0028176d64bd",
        "part": "whole"
       },
       "id": "c331dcc4-182b-4e3d-a050-ecee1fb21b79"
      }
     }
    },
    "a4cf283d-c98e-412e-be9f-2149b7e26791": {
     "id": "a4cf283d-c98e-412e-be9f-2149b7e26791",
     "prev": "1c9cbe27-a31b-4837-9b7d-25f758b0c94b",
     "regions": {
      "fe73a58b-c290-496d-adfd-e2c74c40445d": {
       "attrs": {
        "height": 0.8,
        "width": 0.8,
        "x": 0.1,
        "y": 0.1
       },
       "content": {
        "cell": "1ba57caf-ad3d-4d31-8759-b15a135e9d1f",
        "part": "whole"
       },
       "id": "fe73a58b-c290-496d-adfd-e2c74c40445d"
      }
     }
    },
    "a73464e9-a823-4154-b053-9e3daae8f496": {
     "id": "a73464e9-a823-4154-b053-9e3daae8f496",
     "prev": "6a310765-d277-4b66-b83d-c3a6118d6ac7",
     "regions": {
      "1829c7f4-5df2-4d06-afa2-b4289dfd5c03": {
       "attrs": {
        "height": 0.8,
        "width": 0.8,
        "x": 0.1,
        "y": 0.1
       },
       "content": {
        "cell": "76da287b-026e-4546-8112-e97dda09585a",
        "part": "whole"
       },
       "id": "1829c7f4-5df2-4d06-afa2-b4289dfd5c03"
      }
     }
    },
    "b411b2bc-bece-4715-a2d0-91715882de5b": {
     "id": "b411b2bc-bece-4715-a2d0-91715882de5b",
     "prev": "3c021188-f143-48a1-a4fb-ca254303d849",
     "regions": {
      "d28c3e48-0015-4724-8940-7525e8e95ca3": {
       "attrs": {
        "height": 0.8,
        "width": 0.8,
        "x": 0.1,
        "y": 0.1
       },
       "content": {
        "cell": "1ccfafc0-d82a-481c-af37-da7c5634136f",
        "part": "whole"
       },
       "id": "d28c3e48-0015-4724-8940-7525e8e95ca3"
      }
     }
    },
    "b42d5324-b8eb-4bee-a545-977a28a3ba0d": {
     "id": "b42d5324-b8eb-4bee-a545-977a28a3ba0d",
     "prev": "36f6650d-8a01-498b-86f1-93fc62147bd7",
     "regions": {
      "c39d0121-b3fb-4cfb-b597-c054ae4fdd71": {
       "attrs": {
        "height": 0.8,
        "width": 0.8,
        "x": 0.1,
        "y": 0.1
       },
       "content": {
        "cell": "c383fceb-89e0-4bac-a89b-a2903ffc27a0",
        "part": "whole"
       },
       "id": "c39d0121-b3fb-4cfb-b597-c054ae4fdd71"
      }
     }
    },
    "b6669a94-9570-42e2-a317-af7b9d1fc611": {
     "id": "b6669a94-9570-42e2-a317-af7b9d1fc611",
     "prev": "86594afd-1232-4506-88ac-7c72c7848a29",
     "regions": {
      "feb640b2-85cc-42bf-8b2e-c88e28e919ba": {
       "attrs": {
        "height": 0.8,
        "width": 0.8,
        "x": 0.1,
        "y": 0.1
       },
       "content": {
        "cell": "23bcf057-52d8-4277-a1df-0f8ea0fdc5d8",
        "part": "whole"
       },
       "id": "feb640b2-85cc-42bf-8b2e-c88e28e919ba"
      }
     }
    },
    "bd6d504a-1e48-4f47-a5b6-81a8896da038": {
     "id": "bd6d504a-1e48-4f47-a5b6-81a8896da038",
     "prev": "b6669a94-9570-42e2-a317-af7b9d1fc611",
     "regions": {
      "5ae472a2-cf8b-4668-94d8-c34874f45eb1": {
       "attrs": {
        "height": 0.8,
        "width": 0.8,
        "x": 0.1,
        "y": 0.1
       },
       "content": {
        "cell": "4f0e82fc-3b17-466b-a3a5-fad138e066a7",
        "part": "whole"
       },
       "id": "5ae472a2-cf8b-4668-94d8-c34874f45eb1"
      }
     }
    },
    "bd9e2ce5-a70d-42a3-af13-5ab03c0695c8": {
     "id": "bd9e2ce5-a70d-42a3-af13-5ab03c0695c8",
     "prev": "4d258cb2-822c-4956-800c-91726898d7b7",
     "regions": {
      "057fc868-c116-4d71-b723-dd3f502a8c6f": {
       "attrs": {
        "height": 0.8,
        "width": 0.8,
        "x": 0.1,
        "y": 0.1
       },
       "content": {
        "cell": "5736c47e-dd7b-4148-8a26-5fa55925c2a2",
        "part": "whole"
       },
       "id": "057fc868-c116-4d71-b723-dd3f502a8c6f"
      }
     }
    },
    "c058be62-d4ef-4151-9fff-16ebdcbf1c43": {
     "id": "c058be62-d4ef-4151-9fff-16ebdcbf1c43",
     "prev": "bd6d504a-1e48-4f47-a5b6-81a8896da038",
     "regions": {
      "6108b496-bb89-4942-8397-e2dc046d7709": {
       "attrs": {
        "height": 0.8,
        "width": 0.8,
        "x": 0.1,
        "y": 0.1
       },
       "content": {
        "cell": "24d80b3b-bbee-467e-8f4b-b1d3fab6ea12",
        "part": "whole"
       },
       "id": "6108b496-bb89-4942-8397-e2dc046d7709"
      }
     }
    },
    "c60b69df-ac73-4861-9280-c4a747c293e8": {
     "id": "c60b69df-ac73-4861-9280-c4a747c293e8",
     "prev": "f460e994-5b9f-4918-b0e4-03ad0a2c122a",
     "regions": {
      "404126b9-dd96-4002-99b0-5378f948dcd8": {
       "attrs": {
        "height": 0.8,
        "width": 0.8,
        "x": 0.1,
        "y": 0.1
       },
       "content": {
        "cell": "b953d6d2-2c9c-45e4-92c6-04551445411a",
        "part": "whole"
       },
       "id": "404126b9-dd96-4002-99b0-5378f948dcd8"
      }
     }
    },
    "c7596e86-4230-4e71-96d3-0da232fad49f": {
     "id": "c7596e86-4230-4e71-96d3-0da232fad49f",
     "prev": "f3f48330-cf70-426a-b479-650256f0779d",
     "regions": {
      "89b0281b-4a14-476f-b44b-36d973f9ebc9": {
       "attrs": {
        "height": 0.8,
        "width": 0.8,
        "x": 0.1,
        "y": 0.1
       },
       "content": {
        "cell": "5b657530-22e1-4fe2-83e6-51f07c4f8a70",
        "part": "whole"
       },
       "id": "89b0281b-4a14-476f-b44b-36d973f9ebc9"
      }
     }
    },
    "d1961f20-5dc5-42dd-ac87-67c5d4aec93b": {
     "id": "d1961f20-5dc5-42dd-ac87-67c5d4aec93b",
     "prev": "b411b2bc-bece-4715-a2d0-91715882de5b",
     "regions": {
      "16423806-baf3-4167-b257-502604743d88": {
       "attrs": {
        "height": 0.8,
        "width": 0.8,
        "x": 0.1,
        "y": 0.1
       },
       "content": {
        "cell": "ba6afe41-6d64-4c34-9e27-d7b125dca223",
        "part": "whole"
       },
       "id": "16423806-baf3-4167-b257-502604743d88"
      }
     }
    },
    "da07f912-c134-426e-9193-7343e4e20dca": {
     "id": "da07f912-c134-426e-9193-7343e4e20dca",
     "prev": "81af6006-28af-4164-92d9-a0550a8d771b",
     "regions": {
      "51bef205-3787-49b1-ade9-4e065ec2965e": {
       "attrs": {
        "height": 0.8,
        "width": 0.8,
        "x": 0.1,
        "y": 0.1
       },
       "content": {
        "cell": "de06b3f0-9765-423f-9ab1-0f8d5490315c",
        "part": "whole"
       },
       "id": "51bef205-3787-49b1-ade9-4e065ec2965e"
      }
     }
    },
    "dc08de33-0bd2-4777-b4bf-c69ca3332ad8": {
     "id": "dc08de33-0bd2-4777-b4bf-c69ca3332ad8",
     "prev": "d1961f20-5dc5-42dd-ac87-67c5d4aec93b",
     "regions": {
      "6b6c89a0-351e-4acc-921a-008aa2d53d04": {
       "attrs": {
        "height": 0.8,
        "width": 0.8,
        "x": 0.1,
        "y": 0.1
       },
       "content": {
        "cell": "ee2687dd-5264-485c-bba3-1f30d2b1bc2e",
        "part": "whole"
       },
       "id": "6b6c89a0-351e-4acc-921a-008aa2d53d04"
      }
     }
    },
    "df1b7710-40ae-414e-bff3-1ec502d17771": {
     "id": "df1b7710-40ae-414e-bff3-1ec502d17771",
     "prev": "132e4dd8-d9ac-43a4-8147-58bdae01c9d3",
     "regions": {
      "08e178aa-0163-4713-a1d7-2fcf24ba5e4d": {
       "attrs": {
        "height": 0.8,
        "width": 0.8,
        "x": 0.1,
        "y": 0.1
       },
       "content": {
        "cell": "0e22aa13-f671-414c-b1da-e1a8e648d7be",
        "part": "whole"
       },
       "id": "08e178aa-0163-4713-a1d7-2fcf24ba5e4d"
      }
     }
    },
    "e0c99a8b-79c0-46d8-b67d-b9b63d31ece4": {
     "id": "e0c99a8b-79c0-46d8-b67d-b9b63d31ece4",
     "prev": "dc08de33-0bd2-4777-b4bf-c69ca3332ad8",
     "regions": {
      "7861352c-634b-4368-8d10-5f590f6eac53": {
       "attrs": {
        "height": 0.8,
        "width": 0.8,
        "x": 0.1,
        "y": 0.1
       },
       "content": {
        "cell": "08973d72-5f07-46de-8225-7933aa333ae8",
        "part": "whole"
       },
       "id": "7861352c-634b-4368-8d10-5f590f6eac53"
      }
     }
    },
    "e1a33b61-a7d9-4acb-bb9d-6f83d400e3d9": {
     "id": "e1a33b61-a7d9-4acb-bb9d-6f83d400e3d9",
     "prev": "79cfb9df-64b9-4337-888f-a2bd4bb0ded0",
     "regions": {
      "25846c65-a984-4e57-909c-c96e223d3faf": {
       "attrs": {
        "height": 0.8,
        "width": 0.8,
        "x": 0.1,
        "y": 0.1
       },
       "content": {
        "cell": "7d9563e2-488a-4f39-a953-bf13b1dbfc01",
        "part": "whole"
       },
       "id": "25846c65-a984-4e57-909c-c96e223d3faf"
      }
     }
    },
    "e3d49b36-78dd-4e54-8d74-cb36e4190aa2": {
     "id": "e3d49b36-78dd-4e54-8d74-cb36e4190aa2",
     "prev": "da07f912-c134-426e-9193-7343e4e20dca",
     "regions": {
      "f287cce5-0e4d-4476-8b7c-5647528937e9": {
       "attrs": {
        "height": 0.8,
        "width": 0.8,
        "x": 0.1,
        "y": 0.1
       },
       "content": {
        "cell": "692e51eb-d6e9-4206-b00c-8a2df94cf4da",
        "part": "whole"
       },
       "id": "f287cce5-0e4d-4476-8b7c-5647528937e9"
      }
     }
    },
    "f3f48330-cf70-426a-b479-650256f0779d": {
     "id": "f3f48330-cf70-426a-b479-650256f0779d",
     "prev": "6d9dc89a-8b23-47d1-84d8-bade26c43923",
     "regions": {
      "ed101f44-6536-48e7-b506-bf61fa9894b9": {
       "attrs": {
        "height": 0.8,
        "width": 0.8,
        "x": 0.1,
        "y": 0.1
       },
       "content": {
        "cell": "f7a5964e-ae7a-4ea9-95b0-4dd5c745f809",
        "part": "whole"
       },
       "id": "ed101f44-6536-48e7-b506-bf61fa9894b9"
      }
     }
    },
    "f460e994-5b9f-4918-b0e4-03ad0a2c122a": {
     "id": "f460e994-5b9f-4918-b0e4-03ad0a2c122a",
     "prev": "2b30c988-4303-49d5-8f02-d36a80fd4859",
     "regions": {
      "7d98e294-a5dd-4b1b-8d7a-448be699f432": {
       "attrs": {
        "height": 0.8,
        "width": 0.8,
        "x": 0.1,
        "y": 0.1
       },
       "content": {
        "cell": "a895050c-740c-4d94-9a13-1869085f907b",
        "part": "whole"
       },
       "id": "7d98e294-a5dd-4b1b-8d7a-448be699f432"
      }
     }
    },
    "ff7e41cd-ef94-4488-be67-e63eb06610c9": {
     "id": "ff7e41cd-ef94-4488-be67-e63eb06610c9",
     "prev": "e3d49b36-78dd-4e54-8d74-cb36e4190aa2",
     "regions": {
      "aadb2c5c-e46b-4c4c-8cb6-f6f5dac31f6e": {
       "attrs": {
        "height": 0.8,
        "width": 0.8,
        "x": 0.1,
        "y": 0.1
       },
       "content": {
        "cell": "a0b93356-db14-4503-befc-d090fd954942",
        "part": "whole"
       },
       "id": "aadb2c5c-e46b-4c4c-8cb6-f6f5dac31f6e"
      }
     }
    }
   },
   "themes": {}
  }
 },
 "nbformat": 4,
 "nbformat_minor": 1
}
